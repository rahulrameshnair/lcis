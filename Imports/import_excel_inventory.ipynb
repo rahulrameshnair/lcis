{
 "cells": [
  {
   "cell_type": "code",
   "execution_count": null,
   "metadata": {
    "collapsed": false,
    "jupyter": {
     "outputs_hidden": false
    }
   },
   "outputs": [],
   "source": [
    "import brightway2 as bw\n",
    "import functools"
   ]
  },
  {
   "attachments": {},
   "cell_type": "markdown",
   "metadata": {},
   "source": [
    "### Logic of import\n",
    "- a database is imported from an excel file using the bw2 default functions.\n",
    "- the activities in this database are matched with the existing databases (user provided) in the project.\n",
    "- if there are any unlinked activities (From ecoinvent), they are stored as a separate **list of dict**.\n",
    "-   then the whole table of linked and unlinked activities are stored as an excel sheet.\n",
    "- The unlinked activities are dropped, the database is written\n",
    "- The unlinked activities are matched against the ecoinvent database and the unique (based on the reference product, name and location) ecoinvent counterparts are identified.\n",
    "-   These unique activities are written to the newly imported database and formulas, if any, are inherited from the **list of dict**. Thus all the originally unlinked activities are copied back into the new database\n",
    "- Now, activity browser can be opened and these originally unlinked activities can be reassigned by dragging and dropping."
   ]
  },
  {
   "cell_type": "code",
   "execution_count": null,
   "metadata": {
    "collapsed": false,
    "jupyter": {
     "outputs_hidden": false
    }
   },
   "outputs": [],
   "source": [
    "from bw2io import *\n",
    "from bw2io.strategies import *"
   ]
  },
  {
   "cell_type": "code",
   "execution_count": null,
   "metadata": {
    "collapsed": false,
    "jupyter": {
     "outputs_hidden": false
    }
   },
   "outputs": [],
   "source": [
    "bw.projects.set_current('staging')"
   ]
  },
  {
   "cell_type": "code",
   "execution_count": null,
   "metadata": {
    "collapsed": false
   },
   "outputs": [],
   "source": [
    "import select_file_v2 as select\n",
    "database_path, database_name = select.file_selection()\n",
    "# for checking the paths\n",
    "print(database_path)\n",
    "print(database_name)"
   ]
  },
  {
   "attachments": {},
   "cell_type": "markdown",
   "metadata": {},
   "source": [
    "### Create an ExcelImporter object"
   ]
  },
  {
   "cell_type": "code",
   "execution_count": null,
   "metadata": {
    "collapsed": false,
    "jupyter": {
     "outputs_hidden": false
    }
   },
   "outputs": [],
   "source": [
    "ei = ExcelImporter(database_path)"
   ]
  },
  {
   "attachments": {},
   "cell_type": "markdown",
   "metadata": {},
   "source": [
    "### Apply the statistics and check for data statistics"
   ]
  },
  {
   "cell_type": "code",
   "execution_count": null,
   "metadata": {
    "collapsed": false,
    "jupyter": {
     "outputs_hidden": false
    }
   },
   "outputs": [],
   "source": [
    "ei.apply_strategies()\n",
    "ei.statistics()"
   ]
  },
  {
   "attachments": {},
   "cell_type": "markdown",
   "metadata": {},
   "source": [
    "### Database matching\n",
    "Perform a self matching and also match with other databases that are already present in the project. _note:_ a pop-up will appear to enter the name of the databases manually."
   ]
  },
  {
   "cell_type": "code",
   "execution_count": null,
   "metadata": {
    "collapsed": false,
    "jupyter": {
     "outputs_hidden": false
    }
   },
   "outputs": [],
   "source": [
    "ei.match_database(fields=('name')) #database self matching\n",
    "\n",
    "import db_dependencies as DB\n",
    "for i in range (DB.db_array_length):\n",
    "    ei.match_database(db_name=DB.db_names[i], fields=('name', 'reference product', 'location'))\n",
    "#ei.match_database(None, ignore_categories=True)\n",
    "ei.statistics()"
   ]
  },
  {
   "attachments": {},
   "cell_type": "markdown",
   "metadata": {},
   "source": [
    "### Printing the matched databases\n",
    "To \"neatly\" print the entire imported data within ei. ONLY use when requried\n"
   ]
  },
  {
   "cell_type": "code",
   "execution_count": null,
   "metadata": {
    "collapsed": false
   },
   "outputs": [],
   "source": [
    "import pprint\n",
    "pprint.pprint(ei.data)\n"
   ]
  },
  {
   "attachments": {},
   "cell_type": "markdown",
   "metadata": {},
   "source": [
    "### Storing unlinked activities\n",
    "**(only, if required)**\n",
    "if there are any unlinked exchanges, the databases of these exchanges, and the unlinked exchanges are stored in their own arrays"
   ]
  },
  {
   "cell_type": "code",
   "execution_count": null,
   "metadata": {
    "collapsed": false,
    "jupyter": {
     "outputs_hidden": false
    }
   },
   "outputs": [],
   "source": [
    "unlinked_databases = []\n",
    "unlinked_exchanges = []\n",
    "for exc in ei.unlinked:\n",
    "    if exc[\"database\"] not in unlinked_databases:\n",
    "        unlinked_databases.append(exc[\"database\"])\n",
    "    unlinked_exchanges.append(exc)\n",
    "# the unlinked exchanges are stored as a list, where each element is a dict\n",
    "print (\"The unlinked database/s:\\n\",unlinked_databases)\n",
    "print(\"The unlinked exchanges are:\\n\",unlinked_exchanges)"
   ]
  },
  {
   "cell_type": "code",
   "execution_count": null,
   "metadata": {},
   "outputs": [],
   "source": [
    "#under construction\n",
    "import pandas as pd\n",
    "import pandasgui as pdg\n",
    "print(type(unlinked_exchanges))\n",
    "print(pd.DataFrame.from_dict(unlinked_exchanges))\n",
    "pdg.show(unlinked_exchanges)"
   ]
  },
  {
   "attachments": {},
   "cell_type": "markdown",
   "metadata": {},
   "source": [
    "### Exporting all matched activities to excel\n",
    "**(only, if required)**\n",
    "write an excel file with all the matched activities so far.copy the excel file that was written in the previous line to your desired location for further reference.\n"
   ]
  },
  {
   "cell_type": "code",
   "execution_count": null,
   "metadata": {
    "collapsed": false,
    "jupyter": {
     "outputs_hidden": false
    }
   },
   "outputs": [],
   "source": [
    "ei.write_excel(only_unlinked=False)\n",
    "ei.add_unlinked_activities()\n",
    "ei.statistics()"
   ]
  },
  {
   "attachments": {},
   "cell_type": "markdown",
   "metadata": {},
   "source": [
    "### Dropping unlinked activities\n",
    "**(Not recommended)** This is a last resort. It drops all the unlinked activities from the database."
   ]
  },
  {
   "cell_type": "code",
   "execution_count": null,
   "metadata": {
    "collapsed": false
   },
   "outputs": [],
   "source": [
    "#uncomment the line below to enable the Nuclear option\n",
    "#ei.drop_unlinked(i_am_reckless=True)"
   ]
  },
  {
   "attachments": {},
   "cell_type": "markdown",
   "metadata": {},
   "source": [
    "### Final statistics check"
   ]
  },
  {
   "cell_type": "code",
   "execution_count": null,
   "metadata": {
    "collapsed": false
   },
   "outputs": [],
   "source": [
    "ei.statistics()"
   ]
  },
  {
   "attachments": {},
   "cell_type": "markdown",
   "metadata": {},
   "source": [
    "### Write database to brightway"
   ]
  },
  {
   "cell_type": "code",
   "execution_count": null,
   "metadata": {
    "collapsed": false,
    "jupyter": {
     "outputs_hidden": false
    }
   },
   "outputs": [],
   "source": [
    "# will write to the database only if there are no unlinked exchanges\n",
    "#writes the database into the bw2 as the same name of the excel sheet\n",
    "ei.write_database()"
   ]
  },
  {
   "cell_type": "markdown",
   "metadata": {
    "collapsed": false
   },
   "source": [
    "**if unlinked (with ecoinvent) activities have been dropped**, then the code block below is used for searching and finding similar activities from the ecoinvent database.\n",
    "\n",
    "**Note**: There is potentially one another method to do this. That is to search the unlinked_exchanges dict, and then add each activity by itself to the new database. However, this will result in loss of connection and attribution with ecoinvent database. May be, this method can be attempted in future."
   ]
  },
  {
   "cell_type": "code",
   "execution_count": null,
   "metadata": {
    "collapsed": false
   },
   "outputs": [],
   "source": [
    "print(unlinked_exchanges)\n",
    "#print(unlinked_exchanges[0][\"formula\"])"
   ]
  },
  {
   "cell_type": "code",
   "execution_count": null,
   "metadata": {
    "collapsed": false
   },
   "outputs": [],
   "source": [
    "import bw2data as bd\n",
    "\n",
    "#select the source ecoinvent database and the target database with missing activities\n",
    "ecoinvent_db = bd.Database('cutoff391')\n",
    "target_db = bd.Database('aircraftlca2')\n",
    "#iterate through each unlinked exchanges stored in the unlinked_exchanges list\n",
    "for exchange in unlinked_exchanges:\n",
    "    #print (exchange[\"name\"])\n",
    "\n",
    "    #matches activity in unlinked_exchanges to those in th ecoinvent_db by name, location and reference product\n",
    "    matches_activity = [act for act in ecoinvent_db if act[\"name\"] == exchange[\"name\"] and act[\"location\"] == exchange[\"location\"] and act[\"reference product\"] == exchange[\"reference product\"]]\n",
    "    #matches_activity = bd.Database(database_name).search(exchange[\"name\"])\n",
    "    for match in matches_activity:\n",
    "        #saves the activity code from the matched activity. This activity code is later used for copying the activity from ecoinvent db to target database\n",
    "        activity_code = match[\"code\"]\n",
    "    #source_activity is the activity to be copies from ecoinvent\n",
    "    source_activity = ecoinvent_db.get(activity_code)\n",
    "    print(\"The activity from ecoinvent is \\n\", source_activity)\n",
    "\n",
    "    #copies source activity to a variable called target_activity\n",
    "    target_activity = source_activity.copy()\n",
    "    target_activity[\"database\"] = target_db.name\n",
    "\n",
    "    # if there are any associatted formulas in the unlinked databases it will copied over to the newly added activities in the database. This copy may not work if the parameters are not available.\n",
    "    if \"formula\" in exchange.keys():\n",
    "        print(\"yes, there is formula\")\n",
    "        target_activity[\"formula\"]=exchange[\"formula\"]\n",
    "\n",
    "    target_activity.save()\n",
    "    target_db.process()"
   ]
  },
  {
   "cell_type": "code",
   "execution_count": null,
   "metadata": {
    "collapsed": false
   },
   "outputs": [],
   "source": [
    "quit()"
   ]
  }
 ],
 "metadata": {
  "kernelspec": {
   "display_name": "Python 3 (ipykernel)",
   "language": "python",
   "name": "python3"
  },
  "language_info": {
   "codemirror_mode": {
    "name": "ipython",
    "version": 3
   },
   "file_extension": ".py",
   "mimetype": "text/x-python",
   "name": "python",
   "nbconvert_exporter": "python",
   "pygments_lexer": "ipython3",
   "version": "3.9.16"
  }
 },
 "nbformat": 4,
 "nbformat_minor": 4
}
