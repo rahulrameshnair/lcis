{
 "cells": [
  {
   "cell_type": "markdown",
   "metadata": {
    "collapsed": false
   },
   "source": [
    "The only way to iterate through all the exchanges of an activity in a brightway database is to make use of a double forloop as shown below."
   ]
  },
  {
   "cell_type": "code",
   "execution_count": null,
   "metadata": {
    "collapsed": true
   },
   "outputs": [],
   "source": [
    "import bw2data as bd\n",
    "ecoinvent_db = bd.Database('cutoff391')\n",
    "target_db = bd.Database('aircraftlca2')\n",
    "\n",
    "#the only way to iterate through exchanges in an activity is two call using a double for loop. without this, brightway will not iterate through all the exchange\n",
    "#in the activity.\n",
    "for exchange in unlinked_exchanges:\n",
    "    print (exchange[\"name\"])\n",
    "    matches_activity = [act for act in ecoinvent_db if act[\"name\"] == exchange[\"name\"] and act[\"location\"] == exchange[\"location\"] and act[\"reference product\"] == exchange[\"reference product\"]]\n",
    "    #matches_activity = bd.Database(database_name).search(exchange[\"name\"])\n",
    "    for match in matches_activity:\n",
    "        activity_code = match[\"code\"]\n",
    "    for match in matches_activity:\n",
    "        target_activity = target_db.new_activity(name=match[\"name\"], location)\n",
    "        for ex in match.exchanges():\n",
    "            print (ex)"
   ]
  },
  {
   "cell_type": "markdown",
   "metadata": {},
   "source": [
    "## Documentation\n",
    "\n",
    "It is suggested that to avoid inconsistencies the brightway database should have the activities and exchanges in the following hirearchy. The activity contains the process name. The exchanges in this activity are three kinds 1) production, 2) technosphere inputs and 3) biosphere outputs. For example, a demo is shown below.\n",
    "\n",
    "        Activity: {'database': 'materials2', 'code': '421695138c4741af8deeb228ed68b13d', 'location': 'GLO', 'name': 'Pyrolytic carbon', 'reference product': 'Pyrolytic carbon', 'unit': 'kilogram', 'type': 'process'} \n",
    "\n",
    "\t      Exchange {'output': ('materials2', '421695138c4741af8deeb228ed68b13d'), 'input': ('materials2', '421695138c4741af8deeb228ed68b13d'), 'amount': 0.65, 'type': 'production'} \n",
    "\n",
    "\t      Exchange {'output': ('materials2', '421695138c4741af8deeb228ed68b13d'), 'input': ('cutoff391', 'e77669e3f0e8d2473070ea895c442edb'), 'amount': 1, 'type': 'technosphere'} \n",
    "\n",
    "          Exchange {'output': ('materials2', '421695138c4741af8deeb228ed68b13d'), 'input': ('biosphere3', 'f9749677-9c9f-4678-ab55-c607dfdc2cb9'), 'amount': 0.35, 'type': 'biosphere'} "
   ]
  }
 ],
 "metadata": {
  "kernelspec": {
   "display_name": "Python 3",
   "language": "python",
   "name": "python3"
  },
  "language_info": {
   "codemirror_mode": {
    "name": "ipython",
    "version": 2
   },
   "file_extension": ".py",
   "mimetype": "text/x-python",
   "name": "python",
   "nbconvert_exporter": "python",
   "pygments_lexer": "ipython2",
   "version": "2.7.6"
  }
 },
 "nbformat": 4,
 "nbformat_minor": 0
}
