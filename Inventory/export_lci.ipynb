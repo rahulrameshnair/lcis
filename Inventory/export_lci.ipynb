{
 "cells": [
  {
   "cell_type": "code",
   "execution_count": null,
   "metadata": {},
   "outputs": [],
   "source": [
    "# To avoid certain errors that occur in some systems due to conflicts of paths.\n",
    "import os, sys, pprint\n",
    "# Add the parent directory of export to the Python path\n",
    "working_dir = os.getcwd()\n",
    "parent_dir = os.path.join(os.getcwd(), os.pardir)\n",
    "p_parent_dir = os.path.join(parent_dir, os.pardir) \n",
    "sys.path.append(os.path.abspath(p_parent_dir))"
   ]
  },
  {
   "cell_type": "code",
   "execution_count": null,
   "metadata": {},
   "outputs": [],
   "source": [
    "#All the import statements required in the generation of lci\n",
    "import bw2data as bw\n",
    "import bw2io as bwio\n",
    "import shutil as sh\n",
    "#import json\n",
    "import pandas as pd\n",
    "import export.libs.metadata as md\n",
    "import export.libs.excel as excel\n",
    "from network.libs import lci, extract"
   ]
  },
  {
   "attachments": {},
   "cell_type": "markdown",
   "metadata": {},
   "source": [
    "## Export the LCI database\n"
   ]
  },
  {
   "attachments": {},
   "cell_type": "markdown",
   "metadata": {},
   "source": [
    "### Initialize\n",
    "Set the project and the required database"
   ]
  },
  {
   "cell_type": "code",
   "execution_count": null,
   "metadata": {},
   "outputs": [],
   "source": [
    "project_name = input(\"Enter the name of the project: \")\n",
    "database_name = input(\"Enter the name of the database: \")\n",
    "bw.projects.set_current(project_name)\n",
    "selected_database = bw.Database(database_name)\n",
    "# All output files will contain the exported_file_name as the prefix\n",
    "exported_file_name = input(\"Enter the desired name for the export files: \")"
   ]
  },
  {
   "attachments": {},
   "cell_type": "markdown",
   "metadata": {},
   "source": [
    "### Export to csv fle"
   ]
  },
  {
   "cell_type": "code",
   "execution_count": null,
   "metadata": {},
   "outputs": [],
   "source": [
    "file_location = bwio.export.csv.write_lci_csv(database_name) #this excludes nested data\n",
    "working_directory = os.getcwd()\n",
    "print ('The current working directory is ', working_directory)\n",
    "sh.copy(file_location, exported_file_name+'.csv' )"
   ]
  },
  {
   "attachments": {},
   "cell_type": "markdown",
   "metadata": {},
   "source": [
    "### Export to excel file"
   ]
  },
  {
   "attachments": {},
   "cell_type": "markdown",
   "metadata": {},
   "source": [
    "Create the excel lci inventory"
   ]
  },
  {
   "cell_type": "code",
   "execution_count": null,
   "metadata": {},
   "outputs": [],
   "source": [
    "excel_file_location = bwio.export.excel.write_lci_excel(database_name)\n",
    "working_directory = os.getcwd()\n",
    "print ('The current working directory is ', working_directory)\n",
    "sh.copy(excel_file_location, exported_file_name + '.xlsx' )"
   ]
  },
  {
   "attachments": {},
   "cell_type": "markdown",
   "metadata": {},
   "source": [
    "Format or \"beautify\" this excel file to make it more human-readable"
   ]
  },
  {
   "cell_type": "code",
   "execution_count": null,
   "metadata": {},
   "outputs": [],
   "source": [
    "excel_file = input(\"Enter the path of your excel file: \")\n",
    "output_excel_file = exported_file_name + '_formatted.xlsx'\n",
    "excel.excel_format(excel_file, output_excel_file)"
   ]
  },
  {
   "attachments": {},
   "cell_type": "markdown",
   "metadata": {},
   "source": [
    "### Export the database properties"
   ]
  },
  {
   "attachments": {},
   "cell_type": "markdown",
   "metadata": {},
   "source": [
    "General properties of the database such as total no. of activities, exchanges, project parameters etc. At present, the database versioning has to performed manually. Methods of making this process a bit intelligent (Depending on the underlying changes in the data) has to be investigated separately."
   ]
  },
  {
   "cell_type": "code",
   "execution_count": null,
   "metadata": {},
   "outputs": [],
   "source": [
    "database_properties = md.db_props(project_name, database_name).gen_info()\n",
    "import uuid\n",
    "uid = uuid.uuid4().hex\n",
    "database_properties['Database Identifier'] = uid\n",
    "database_properties['Version'] = input (\"Enter the version of the database (e.g 1.0.1): \")\n",
    "pprint.pprint (database_properties)"
   ]
  },
  {
   "attachments": {},
   "cell_type": "markdown",
   "metadata": {},
   "source": [
    "Get the names of all the dependent databases within the selcted database. Append this to the database properties dict."
   ]
  },
  {
   "cell_type": "code",
   "execution_count": null,
   "metadata": {},
   "outputs": [],
   "source": [
    "lci_db = lci.LCI(project_name, database_name)\n",
    "\n",
    "#declare the important info\n",
    "keys_technosphere = ['name', 'database', 'location', 'unit','reference product']\n",
    "keys_biosphere = ['name', 'database', 'unit', 'categories']\n",
    "keys_production = ['name', 'database', 'location', 'unit','reference product']\n",
    "\n",
    "# the life cycle inventory is stored as a list of dicts with first element of list containing parameters and second element containing activity dics.\n",
    "LCI_list = lci_db.LCI_database_list(keys_biosphere, keys_technosphere, keys_production)\n",
    "# pprint.pprint(LCI_list, indent=2)"
   ]
  },
  {
   "attachments": {},
   "cell_type": "markdown",
   "metadata": {},
   "source": [
    "Add the names of database dependencies to the database_properties dictionary"
   ]
  },
  {
   "cell_type": "code",
   "execution_count": null,
   "metadata": {},
   "outputs": [],
   "source": [
    "dependencies = md.db_props.db_dependencies(LCI_list[1])\n",
    "database_properties['Database Dependencies'] = dependencies\n",
    "pprint.pprint (database_properties)"
   ]
  },
  {
   "attachments": {},
   "cell_type": "markdown",
   "metadata": {},
   "source": [
    "Write database_properties to a csv file"
   ]
  },
  {
   "cell_type": "code",
   "execution_count": null,
   "metadata": {},
   "outputs": [],
   "source": [
    "db_props_csv_file = exported_file_name + '_properties.csv'\n",
    "md.db_props.csv(db_props_csv_file, database_properties)"
   ]
  },
  {
   "attachments": {},
   "cell_type": "markdown",
   "metadata": {},
   "source": [
    "## Metadata file\n"
   ]
  },
  {
   "attachments": {},
   "cell_type": "markdown",
   "metadata": {},
   "source": [
    "### Metadata .md file from excel\n",
    "If required, the excel template can be used to generate a markdown version. This is intended for anyone who may find it difficult to create or replicate markdown template based on /templates/datasets. *Note:* The xlsx to .md may not work always, expecially if there are too much formatting present in the source excel file."
   ]
  },
  {
   "cell_type": "code",
   "execution_count": null,
   "metadata": {},
   "outputs": [],
   "source": [
    "input_file_path = input(\"Enter the path to the Excel metadata file: \")         # Ask the user to provide the Excel file path\n",
    "output_metadata_file = exported_file_name + '_metadata.md'\n",
    "\n",
    "md.metadata().excel_to_md(input_file_path, output_metadata_file)"
   ]
  }
 ],
 "metadata": {
  "kernelspec": {
   "display_name": "Python 3",
   "language": "python",
   "name": "python3"
  },
  "language_info": {
   "codemirror_mode": {
    "name": "ipython",
    "version": 3
   },
   "file_extension": ".py",
   "mimetype": "text/x-python",
   "name": "python",
   "nbconvert_exporter": "python",
   "pygments_lexer": "ipython3",
   "version": "3.9.16"
  },
  "orig_nbformat": 4
 },
 "nbformat": 4,
 "nbformat_minor": 2
}
