{
 "cells": [
  {
   "cell_type": "code",
   "execution_count": null,
   "metadata": {},
   "outputs": [],
   "source": [
    "import bw2data as bw\n",
    "from bw2data.parameters import ActivityParameter, DatabaseParameter, ProjectParameter\n",
    "import networkx as nx\n",
    "import pandas as pd\n",
    "from libs import extract as extract\n",
    "import libs.print_lci as print_lci\n",
    "import libs.lci as inventory"
   ]
  },
  {
   "cell_type": "markdown",
   "metadata": {},
   "source": [
    "### Initialization\n",
    "Initialize the project, database and the output file"
   ]
  },
  {
   "cell_type": "code",
   "execution_count": null,
   "metadata": {},
   "outputs": [],
   "source": [
    "project_name = input(\"Enter the name of the project: \")\n",
    "database_name = input(\"Enter the name of the database in the project: \")\n",
    "bw.projects.set_current(project_name)\n",
    "selected_database = bw.Database(database_name)\n",
    "output_file_name = database_name + '.graphml' #input databasename is used as as the name for the output network"
   ]
  },
  {
   "cell_type": "markdown",
   "metadata": {},
   "source": [
    "### Check the life cycle inventory\n",
    "\n",
    "To print the all the details concerning the activities and corresponding exchanges from the selected database. Only use, *if required*"
   ]
  },
  {
   "cell_type": "code",
   "execution_count": null,
   "metadata": {},
   "outputs": [],
   "source": [
    "print_lci.print_all (selected_database)"
   ]
  },
  {
   "cell_type": "code",
   "execution_count": null,
   "metadata": {},
   "outputs": [],
   "source": [
    "print_lci.print_classified(selected_database) #classifies the activities within the selected database."
   ]
  },
  {
   "cell_type": "markdown",
   "metadata": {},
   "source": [
    "## LCI Database\n",
    "\n",
    "LCI_database is generated in the format of [parameters, activities]\n",
    "- parameters (nested dict and lists)\n",
    "```\n",
    "                            {'Project Parameters': [{ }, { }, { }, ...]\n",
    "                            'Database Parameters': [{ }, { }, { }, ...]\n",
    "                            'Activity Parameters': [{ }, { }, { }, ...] }\n",
    "```\n",
    "- activities (nested dict and list): \n",
    "```                         \n",
    "                            {activity-1{name: 'test',\n",
    "                                         amount: 0,\n",
    "                                         ...........\n",
    "                                         ...........\n",
    "                                         exchanges: [ { }, { }, { }, .....]\n",
    "                                                                    }\n",
    "                                         ..................},\n",
    "                            activity-2{....\n",
    "                                        ...................}\n",
    "                              .............................}\n",
    "```"
   ]
  },
  {
   "cell_type": "markdown",
   "metadata": {},
   "source": [
    "### Required keys for flows\n",
    "Enter the keys that are necessary for each flow types"
   ]
  },
  {
   "cell_type": "code",
   "execution_count": null,
   "metadata": {},
   "outputs": [],
   "source": [
    "keys_technosphere = ['name', 'database', 'location', 'unit','reference product']\n",
    "keys_biosphere = ['name', 'database', 'unit', 'categories']\n",
    "keys_production = ['name', 'database', 'location', 'unit','reference product']"
   ]
  },
  {
   "cell_type": "markdown",
   "metadata": {},
   "source": [
    "### Generate LCI database as a list of dictionaries"
   ]
  },
  {
   "cell_type": "code",
   "execution_count": null,
   "metadata": {},
   "outputs": [],
   "source": [
    "lci_db = inventory.LCI(project_name, database_name)\n",
    "LCI_list = lci_db.LCI_database_list(keys_biosphere, keys_technosphere, keys_production)\n",
    "import pprint\n",
    "pprint.pprint(LCI_list, indent=2)"
   ]
  },
  {
   "cell_type": "markdown",
   "metadata": {},
   "source": [
    "## LCI to network diagram\n",
    "Convert the activities, the products, technosphere and biosphere flows into an interconnected network diagram. This resultant file is stored in the graphml file format. Graphml allows much more flexibility in terms of export and editing using open-source graphml editing programs such as gephi and cytoscape. "
   ]
  },
  {
   "cell_type": "markdown",
   "metadata": {},
   "source": [
    "### Node & Attributes\n",
    "Creates nodes, edges, and stores all the attributes of nodes into a dictionary"
   ]
  },
  {
   "cell_type": "code",
   "execution_count": null,
   "metadata": {},
   "outputs": [],
   "source": [
    "network_graph, node_attributes = inventory.LCI.network(LCI_list)\n",
    "pprint.pprint(node_attributes)"
   ]
  },
  {
   "cell_type": "markdown",
   "metadata": {},
   "source": [
    "### Clean-up \n",
    "\n",
    "The node attributes dictionary is checked and cleaned if there any key:value pairs other than the numeric or string. This is because 'graphml' only allows datatypes of bool, numbers (float, int etc.) and strings. Any other datatype as node or edge attributes will result in a \"type\" error. Another option could be use the gml format, i.e a format created by the team behind networkx - [GML format](https://networkx.org/documentation/stable/reference/readwrite/generated/networkx.readwrite.gml.write_gml.html). *Another limitation* of this implementation is that [substitution exchanges](https://docs.brightway.dev/en/latest/content/theory/theory.html) (multi-output processes) are not considered.\n"
   ]
  },
  {
   "cell_type": "code",
   "execution_count": null,
   "metadata": {},
   "outputs": [],
   "source": [
    "keys_to_remove, datatypes_keys, all_key_values_types = inventory.LCI.lci_key_search(node_attributes)\n",
    "print ('They keys to remove are: ', keys_to_remove, ' with datatypes ', datatypes_keys, ', respectively', \"\\n\")\n",
    "pprint.pprint(all_key_values_types)"
   ]
  },
  {
   "cell_type": "markdown",
   "metadata": {},
   "source": [
    "**Note** The intrinsic advantage of using brightway is that the data within the LCI is not hidden behind any database. It is flexible and can be stored in dictionary in any formats (as per the requirements of a specific project). Therefore, it may not be viable to create a function to convert all the incomaptible datatypes present within any LCI before it can be written to a network. This will be project dependent. Thus, the below code is just an example. It converts the 'cateorgy' tuples present within the biosphere flows to a string "
   ]
  },
  {
   "cell_type": "code",
   "execution_count": null,
   "metadata": {},
   "outputs": [],
   "source": [
    "def recursive_lci_search(node_details):\n",
    "        for key, value in node_details.items():\n",
    "                # print (key)\n",
    "                if key == 'categories' and isinstance(value, tuple):\n",
    "                        # print(key, value, '::'.join(value))\n",
    "                        node_details[key] = '::'.join(value)\n",
    "                if value is None:\n",
    "                        node_details[key] = 'none'\n",
    "                if isinstance(value, dict):\n",
    "                        recursive_lci_search(value)\n",
    "        return (node_details)\n",
    "updated_node_attributes = recursive_lci_search(node_attributes)\n",
    "pprint.pprint(updated_node_attributes)\n",
    "\n",
    "#check keys again for datatype conflicts\n",
    "keys_to_remove, datatypes_keys, all_key_values_types = inventory.LCI.lci_key_search(updated_node_attributes)\n",
    "print ('They keys to remove are: ', keys_to_remove, ' with datatypes ', datatypes_keys, ', respectively', \"\\n\")"
   ]
  },
  {
   "cell_type": "code",
   "execution_count": null,
   "metadata": {},
   "outputs": [],
   "source": [
    "# Use with caution. This is a nuclear option to drop all the incompatible keys (found above) from the node_attributes dictionary. Data will be LOST!\n",
    "cleaned_node_attributes = updated_node_attributes\n",
    "for key in list(updated_node_attributes):\n",
    "    for key2 in list(updated_node_attributes[key]):\n",
    "        if key2 in keys_to_remove:\n",
    "            del updated_node_attributes[key][key2]\n",
    "pprint.pprint(cleaned_node_attributes)"
   ]
  },
  {
   "cell_type": "markdown",
   "metadata": {},
   "source": [
    "### Write the network"
   ]
  },
  {
   "cell_type": "code",
   "execution_count": null,
   "metadata": {},
   "outputs": [],
   "source": [
    "#Export to graphml format\n",
    "nx.set_node_attributes(network_graph, updated_node_attributes)\n",
    "nx.write_graphml(network_graph, output_file_name, prettyprint=True)"
   ]
  },
  {
   "cell_type": "code",
   "execution_count": null,
   "metadata": {},
   "outputs": [],
   "source": [
    "# print(len(LCI_list))\n",
    "# pprint.pprint (LCI_list[1])\n",
    "activities_dict = LCI_list[1]\n",
    "\n",
    "def finder(activities_dict):\n",
    "    \n",
    "    for activity in activities_dict:\n",
    "        activity_info = {}\n",
    "        print (activity,\"\\n\")\n",
    "        for key_in_activity in activities_dict[activity]:\n",
    "            if key_in_activity == 'exchanges':\n",
    "                print(key_in_activity, activities_dict[activity]['exchanges'], \"\\n\" )\n",
    "                for flow in activities_dict[activity]['exchanges']:\n",
    "                    if (flow[\"database\"]!= \"biosphere\" and flow[\"database\"]!=database_name):\n",
    "                        print (flow[\"name\"], flow[\"database\"])\n",
    "\n",
    "\n",
    "\n",
    "    "
   ]
  },
  {
   "cell_type": "code",
   "execution_count": null,
   "metadata": {},
   "outputs": [],
   "source": [
    "project_name = bw.projects.set_current(\"stagingbw2\")"
   ]
  },
  {
   "cell_type": "code",
   "execution_count": null,
   "metadata": {},
   "outputs": [],
   "source": [
    "def pr_db(database_name):\n",
    "    selected_database = bw.Database(database_name)\n",
    "    exchange_list=[]\n",
    "    for activity in selected_database:\n",
    "        for exchange in activity.exchanges():\n",
    "            #pprint.pprint (exchange.as_dict())\n",
    "            exchange_list.append(exchange.as_dict())\n",
    "    return (exchange_list)\n",
    "def pr_actdetails (key, database_name):\n",
    "    selected_database = bw.Database(database_name)\n",
    "\n",
    "pr_db(\"Exact_fuelcell_withuncertanity\")"
   ]
  },
  {
   "cell_type": "code",
   "execution_count": null,
   "metadata": {},
   "outputs": [],
   "source": [
    "# def activityfinder (database_name, activity_key):\n",
    "#     selected_database = bw.Database(database_name)\n",
    "#     activity_name = selected_database.get(activity_key)\n",
    "#     return (activity_name)\n",
    "import pprint\n",
    "def activity_expand (activity_key, database_name):\n",
    "    selected_database = bw.Database(database_name)\n",
    "    for e in selected_database.get(activity_key).exchanges():\n",
    "        return (e.as_dict())\n",
    "\n",
    "def lcdb (db):\n",
    "    db = bw.Database(db)\n",
    "    ip_list=[]\n",
    "    op_list=[]\n",
    "    for activity in db:\n",
    "        for exchange in activity.exchanges():\n",
    "            #print (exchange['name'], exchange['amount'], \"\\n\")\n",
    "            ip_db, ip_key = exchange[\"input\"][0], exchange[\"input\"][1]\n",
    "            ip_list.append(activity_expand(ip_key, ip_db))\n",
    "            op_db, op_key = exchange[\"output\"][0], exchange[\"output\"][1]\n",
    "            op_list.append(activity_expand(op_key, op_db))\n",
    "    pprint.pprint (ip_list, \"\\n\")\n",
    "print(lcdb(\"materials2\"))"
   ]
  }
 ],
 "metadata": {
  "kernelspec": {
   "display_name": "vscode_conda",
   "language": "python",
   "name": "python3"
  },
  "language_info": {
   "codemirror_mode": {
    "name": "ipython",
    "version": 3
   },
   "file_extension": ".py",
   "mimetype": "text/x-python",
   "name": "python",
   "nbconvert_exporter": "python",
   "pygments_lexer": "ipython3",
   "version": "3.9.16"
  }
 },
 "nbformat": 4,
 "nbformat_minor": 2
}
