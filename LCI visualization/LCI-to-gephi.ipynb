{
 "cells": [
  {
   "cell_type": "code",
   "execution_count": 1,
   "metadata": {
    "collapsed": true,
    "ExecuteTime": {
     "end_time": "2023-05-31T15:10:51.303807600Z",
     "start_time": "2023-05-31T15:10:42.677635700Z"
    }
   },
   "outputs": [],
   "source": [
    "import brightway2 as bw\n",
    "import bw2data as bd\n",
    "import lxml.builder\n",
    "import networkx as nx\n",
    "from lxml.builder import ElementMaker\n",
    "from lxml.etree import tostring\n",
    "#import pygephi\n"
   ]
  },
  {
   "cell_type": "code",
   "execution_count": 2,
   "outputs": [],
   "source": [
    "# Load the required project and select the desired database\n",
    "bw.projects.set_current(\"staging\")\n",
    "selected_database = bw.Database(\"materials\")"
   ],
   "metadata": {
    "collapsed": false,
    "ExecuteTime": {
     "end_time": "2023-05-31T15:10:56.119484100Z",
     "start_time": "2023-05-31T15:10:56.000494700Z"
    }
   }
  },
  {
   "cell_type": "markdown",
   "source": [
    "### Using the inbuilt gexf function to generate the graph of the database"
   ],
   "metadata": {
    "collapsed": false
   }
  },
  {
   "cell_type": "code",
   "execution_count": null,
   "outputs": [],
   "source": [
    "gexfgraph = bw.DatabaseToGEXF(\"biosphere3\")\n",
    "#gexfgraph.get_data(E=lxml.builder.ElementMaker)\n",
    "gexfgraph.export()\n",
    "#gexfgraph.get_data(E=ElementMaker)"
   ],
   "metadata": {
    "collapsed": false
   }
  },
  {
   "cell_type": "markdown",
   "source": [
    "### custom function to create a gexf graph from the activities and tis exchanges"
   ],
   "metadata": {
    "collapsed": false
   }
  },
  {
   "cell_type": "code",
   "execution_count": null,
   "outputs": [],
   "source": [
    "for activity in selected_database:\n",
    "    # Get the activity data and exchanges\n",
    "    print(activity['name'])\n",
    "    for exchange in activity.exchanges():\n",
    "    # Get the input and output activities\n",
    "        #print(exchange['input'])\n",
    "        print(exchange['input'])"
   ],
   "metadata": {
    "collapsed": false
   }
  },
  {
   "cell_type": "code",
   "execution_count": 45,
   "outputs": [
    {
     "name": "stdout",
     "output_type": "stream",
     "text": [
      "Al 2024 kilogram process\n",
      "technosphere: {'name': 'market for aluminium, primary, ingot', 'amount': 0.935, 'database': 'cutoff391', 'location': 'IAI Area, EU27 & EFTA', 'unit': 'kilogram', 'type': 'technosphere', 'reference product': 'aluminium, primary, ingot', 'input': ('cutoff391', '823822c452c6258a6ce360939935f26f'), 'output': ('materials', '31f1a80380444c41ad2b1b1cceb9d5d5')}\n",
      "technosphere: {'name': 'market for copper scrap, sorted, pressed', 'amount': 0.044, 'database': 'cutoff391', 'location': 'GLO', 'unit': 'kilogram', 'type': 'technosphere', 'reference product': 'copper scrap, sorted, pressed', 'input': ('cutoff391', '4d5473bbb237606275ad372ddedf037f'), 'output': ('materials', '31f1a80380444c41ad2b1b1cceb9d5d5')}\n",
      "technosphere: {'name': 'market for magnesium', 'amount': 0.015, 'database': 'cutoff391', 'location': 'GLO', 'unit': 'kilogram', 'type': 'technosphere', 'reference product': 'magnesium', 'input': ('cutoff391', '4c28de4114cc15a555d2c447878fb615'), 'output': ('materials', '31f1a80380444c41ad2b1b1cceb9d5d5')}\n",
      "technosphere: {'name': 'market for manganese', 'amount': 0.006, 'database': 'cutoff391', 'location': 'GLO', 'unit': 'kilogram', 'type': 'technosphere', 'reference product': 'manganese', 'input': ('cutoff391', '156367140fa6ac6c4903900b7a8e8149'), 'output': ('materials', '31f1a80380444c41ad2b1b1cceb9d5d5')}\n",
      "next activity\n",
      "High-Strength Steel kilogram process\n",
      "technosphere: {'name': 'market for steel, chromium steel 18/8', 'amount': 1, 'database': 'cutoff391', 'location': 'GLO', 'unit': 'kilogram', 'type': 'technosphere', 'reference product': 'steel, chromium steel 18/8', 'input': ('cutoff391', '6af7fc101112f29fb43953d562902932'), 'output': ('materials', 'd7163e2b875a420995749f0eed63de0d')}\n",
      "next activity\n",
      "Ti-3-2.5 kilogram process\n",
      "technosphere: {'name': 'market for aluminium, primary, ingot', 'amount': 0.03, 'database': 'cutoff391', 'location': 'IAI Area, EU27 & EFTA', 'unit': 'kilogram', 'type': 'technosphere', 'reference product': 'aluminium, primary, ingot', 'input': ('cutoff391', '823822c452c6258a6ce360939935f26f'), 'output': ('materials', '47b77c7b02e04217adb8c3673dd2187a')}\n",
      "technosphere: {'name': 'market for tantalum powder, capacitor-grade', 'amount': 0.025, 'database': 'cutoff391', 'location': 'GLO', 'unit': 'kilogram', 'type': 'technosphere', 'reference product': 'tantalum powder, capacitor-grade', 'input': ('cutoff391', 'e377a106b47e2561933462fdb23f9588'), 'output': ('materials', '47b77c7b02e04217adb8c3673dd2187a')}\n",
      "technosphere: {'name': 'market for titanium', 'amount': 0.945, 'database': 'cutoff391', 'location': 'GLO', 'unit': 'kilogram', 'type': 'technosphere', 'reference product': 'titanium', 'input': ('cutoff391', 'cbba1d5c4658c85a617f5173516cc257'), 'output': ('materials', '47b77c7b02e04217adb8c3673dd2187a')}\n",
      "next activity\n",
      "CFRP kilogram process\n",
      "technosphere: {'name': 'market for carbon fibre reinforced plastic, injection moulded', 'amount': 1, 'database': 'cutoff391', 'location': 'GLO', 'unit': 'kilogram', 'type': 'technosphere', 'reference product': 'carbon fibre reinforced plastic, injection moulded', 'input': ('cutoff391', 'c52fd3aad9cb8921c70e21a0206414f6'), 'output': ('materials', 'a835e7d64a65472db62efc6458d76afe')}\n",
      "next activity\n",
      "Al 7050 kilogram process\n",
      "technosphere: {'name': 'market for aluminium, primary, ingot', 'amount': 0.891, 'database': 'cutoff391', 'location': 'IAI Area, EU27 & EFTA', 'unit': 'kilogram', 'type': 'technosphere', 'reference product': 'aluminium, primary, ingot', 'input': ('cutoff391', '823822c452c6258a6ce360939935f26f'), 'output': ('materials', 'eed2b8888a504c54acae7ff7c483a158')}\n",
      "technosphere: {'name': 'market for copper scrap, sorted, pressed', 'amount': 0.023, 'database': 'cutoff391', 'location': 'GLO', 'unit': 'kilogram', 'type': 'technosphere', 'reference product': 'copper scrap, sorted, pressed', 'input': ('cutoff391', '4d5473bbb237606275ad372ddedf037f'), 'output': ('materials', 'eed2b8888a504c54acae7ff7c483a158')}\n",
      "technosphere: {'name': 'market for magnesium', 'amount': 0.023, 'database': 'cutoff391', 'location': 'GLO', 'unit': 'kilogram', 'type': 'technosphere', 'reference product': 'magnesium', 'input': ('cutoff391', '4c28de4114cc15a555d2c447878fb615'), 'output': ('materials', 'eed2b8888a504c54acae7ff7c483a158')}\n",
      "technosphere: {'name': 'market for zinc', 'amount': 0.062, 'database': 'cutoff391', 'location': 'GLO', 'unit': 'kilogram', 'type': 'technosphere', 'reference product': 'zinc', 'input': ('cutoff391', '234bef98671292c886679c2bf2528f1f'), 'output': ('materials', 'eed2b8888a504c54acae7ff7c483a158')}\n",
      "technosphere: {'name': 'market for zirconium oxide', 'amount': 0.001, 'database': 'cutoff391', 'location': 'GLO', 'unit': 'kilogram', 'type': 'technosphere', 'reference product': 'zirconium oxide', 'input': ('cutoff391', '5298254fa3c87afd6b7e4e8dd48f1635'), 'output': ('materials', 'eed2b8888a504c54acae7ff7c483a158')}\n",
      "next activity\n",
      "Al 7075 kilogram process\n",
      "technosphere: {'name': 'market for aluminium, primary, ingot', 'amount': 0.901, 'database': 'cutoff391', 'location': 'IAI Area, EU27 & EFTA', 'unit': 'kilogram', 'type': 'technosphere', 'reference product': 'aluminium, primary, ingot', 'input': ('cutoff391', '823822c452c6258a6ce360939935f26f'), 'output': ('materials', 'b9951ab84e9d4cb0a1640cd0a01fd32c')}\n",
      "technosphere: {'name': 'market for chromium', 'amount': 0.002, 'database': 'cutoff391', 'location': 'GLO', 'unit': 'kilogram', 'type': 'technosphere', 'reference product': 'chromium', 'input': ('cutoff391', '3de11ec49c2a8ff3ec0008303b75d475'), 'output': ('materials', 'b9951ab84e9d4cb0a1640cd0a01fd32c')}\n",
      "technosphere: {'name': 'market for copper scrap, sorted, pressed', 'amount': 0.016, 'database': 'cutoff391', 'location': 'GLO', 'unit': 'kilogram', 'type': 'technosphere', 'reference product': 'copper scrap, sorted, pressed', 'input': ('cutoff391', '4d5473bbb237606275ad372ddedf037f'), 'output': ('materials', 'b9951ab84e9d4cb0a1640cd0a01fd32c')}\n",
      "technosphere: {'name': 'market for magnesium', 'amount': 0.025, 'database': 'cutoff391', 'location': 'GLO', 'unit': 'kilogram', 'type': 'technosphere', 'reference product': 'magnesium', 'input': ('cutoff391', '4c28de4114cc15a555d2c447878fb615'), 'output': ('materials', 'b9951ab84e9d4cb0a1640cd0a01fd32c')}\n",
      "technosphere: {'name': 'market for zinc', 'amount': 0.056, 'database': 'cutoff391', 'location': 'GLO', 'unit': 'kilogram', 'type': 'technosphere', 'reference product': 'zinc', 'input': ('cutoff391', '234bef98671292c886679c2bf2528f1f'), 'output': ('materials', 'b9951ab84e9d4cb0a1640cd0a01fd32c')}\n",
      "next activity\n",
      "Ti-10-2-3 kilogram process\n",
      "technosphere: {'name': 'market for aluminium, primary, ingot', 'amount': 0.03, 'database': 'cutoff391', 'location': 'IAI Area, EU27 & EFTA', 'unit': 'kilogram', 'type': 'technosphere', 'reference product': 'aluminium, primary, ingot', 'input': ('cutoff391', '823822c452c6258a6ce360939935f26f'), 'output': ('materials', 'a5258f643b44456481f381d6b6c38573')}\n",
      "technosphere: {'name': 'market for iron pellet', 'amount': 0.02, 'database': 'cutoff391', 'location': 'GLO', 'unit': 'kilogram', 'type': 'technosphere', 'reference product': 'iron pellet', 'input': ('cutoff391', '0409a01e5c245a0dc2ae585a86d38efc'), 'output': ('materials', 'a5258f643b44456481f381d6b6c38573')}\n",
      "technosphere: {'name': 'market for tantalum powder, capacitor-grade', 'amount': 0.1, 'database': 'cutoff391', 'location': 'GLO', 'unit': 'kilogram', 'type': 'technosphere', 'reference product': 'tantalum powder, capacitor-grade', 'input': ('cutoff391', 'e377a106b47e2561933462fdb23f9588'), 'output': ('materials', 'a5258f643b44456481f381d6b6c38573')}\n",
      "technosphere: {'name': 'market for titanium', 'amount': 0.85, 'database': 'cutoff391', 'location': 'GLO', 'unit': 'kilogram', 'type': 'technosphere', 'reference product': 'titanium', 'input': ('cutoff391', 'cbba1d5c4658c85a617f5173516cc257'), 'output': ('materials', 'a5258f643b44456481f381d6b6c38573')}\n",
      "next activity\n",
      "GFRP kilogram process\n",
      "technosphere: {'name': 'market for glass fibre reinforced plastic, polyamide, injection moulded', 'amount': 1, 'database': 'cutoff391', 'location': 'GLO', 'unit': 'kilogram', 'type': 'technosphere', 'reference product': 'glass fibre reinforced plastic, polyamide, injection moulded', 'input': ('cutoff391', 'baf9fd46b7a5fc32fc070e2c1aa4674c'), 'output': ('materials', 'cd16b5591d9e48f3a3ad7bed69a7f250')}\n",
      "next activity\n",
      "Ti 6-2-4-2 kilogram process\n",
      "technosphere: {'name': 'market for aluminium, primary, ingot', 'amount': 0.06, 'database': 'cutoff391', 'location': 'IAI Area, EU27 & EFTA', 'unit': 'kilogram', 'type': 'technosphere', 'reference product': 'aluminium, primary, ingot', 'input': ('cutoff391', '823822c452c6258a6ce360939935f26f'), 'output': ('materials', '911ba448e9154666a7022de969512563')}\n",
      "technosphere: {'name': 'market for molybdenum', 'amount': 0.02, 'database': 'cutoff391', 'location': 'GLO', 'unit': 'kilogram', 'type': 'technosphere', 'reference product': 'molybdenum', 'input': ('cutoff391', '0f23c62795fba0e3169d798d7048a26f'), 'output': ('materials', '911ba448e9154666a7022de969512563')}\n",
      "technosphere: {'name': 'market for tin', 'amount': 0.02, 'database': 'cutoff391', 'location': 'GLO', 'unit': 'kilogram', 'type': 'technosphere', 'reference product': 'tin', 'input': ('cutoff391', 'ddff069daa805b575e737187192b3402'), 'output': ('materials', '911ba448e9154666a7022de969512563')}\n",
      "technosphere: {'name': 'market for titanium', 'amount': 0.86, 'database': 'cutoff391', 'location': 'GLO', 'unit': 'kilogram', 'type': 'technosphere', 'reference product': 'titanium', 'input': ('cutoff391', 'cbba1d5c4658c85a617f5173516cc257'), 'output': ('materials', '911ba448e9154666a7022de969512563')}\n",
      "technosphere: {'name': 'market for zirconium oxide', 'amount': 0.04, 'database': 'cutoff391', 'location': 'GLO', 'unit': 'kilogram', 'type': 'technosphere', 'reference product': 'zirconium oxide', 'input': ('cutoff391', '5298254fa3c87afd6b7e4e8dd48f1635'), 'output': ('materials', '911ba448e9154666a7022de969512563')}\n",
      "next activity\n",
      "Ti64 kilogram process\n",
      "technosphere: {'name': 'market for aluminium, primary, ingot', 'amount': 0.06, 'database': 'cutoff391', 'location': 'IAI Area, EU27 & EFTA', 'unit': 'kilogram', 'type': 'technosphere', 'reference product': 'aluminium, primary, ingot', 'input': ('cutoff391', '823822c452c6258a6ce360939935f26f'), 'output': ('materials', '0508a9434cd24602a9e74cdfd0f70e34')}\n",
      "technosphere: {'name': 'market for tantalum powder, capacitor-grade', 'amount': 0.04, 'database': 'cutoff391', 'location': 'GLO', 'unit': 'kilogram', 'type': 'technosphere', 'reference product': 'tantalum powder, capacitor-grade', 'input': ('cutoff391', 'e377a106b47e2561933462fdb23f9588'), 'output': ('materials', '0508a9434cd24602a9e74cdfd0f70e34')}\n",
      "technosphere: {'name': 'market for titanium', 'amount': 0.9, 'database': 'cutoff391', 'location': 'GLO', 'unit': 'kilogram', 'type': 'technosphere', 'reference product': 'titanium', 'input': ('cutoff391', 'cbba1d5c4658c85a617f5173516cc257'), 'output': ('materials', '0508a9434cd24602a9e74cdfd0f70e34')}\n",
      "next activity\n",
      "Ni-based Superalloy kilogram process\n",
      "technosphere: {'name': 'market for aluminium, primary, ingot', 'amount': 0.004, 'database': 'cutoff391', 'location': 'IAI Area, EU27 & EFTA', 'unit': 'kilogram', 'type': 'technosphere', 'reference product': 'aluminium, primary, ingot', 'input': ('cutoff391', '823822c452c6258a6ce360939935f26f'), 'output': ('materials', 'edad4946ef5a4ed78c3c9206735edc5a')}\n",
      "technosphere: {'name': 'market for carbon black', 'amount': 0.004, 'database': 'cutoff391', 'location': 'GLO', 'unit': 'kilogram', 'type': 'technosphere', 'reference product': 'carbon black', 'input': ('cutoff391', 'd159da75569807fa5869d3a82f5de121'), 'output': ('materials', 'edad4946ef5a4ed78c3c9206735edc5a')}\n",
      "technosphere: {'name': 'market for chromium', 'amount': 0.186, 'database': 'cutoff391', 'location': 'GLO', 'unit': 'kilogram', 'type': 'technosphere', 'reference product': 'chromium', 'input': ('cutoff391', '3de11ec49c2a8ff3ec0008303b75d475'), 'output': ('materials', 'edad4946ef5a4ed78c3c9206735edc5a')}\n",
      "technosphere: {'name': 'market for iron pellet', 'amount': 0.185, 'database': 'cutoff391', 'location': 'GLO', 'unit': 'kilogram', 'type': 'technosphere', 'reference product': 'iron pellet', 'input': ('cutoff391', '0409a01e5c245a0dc2ae585a86d38efc'), 'output': ('materials', 'edad4946ef5a4ed78c3c9206735edc5a')}\n",
      "technosphere: {'name': 'market for manganese', 'amount': 0.002, 'database': 'cutoff391', 'location': 'GLO', 'unit': 'kilogram', 'type': 'technosphere', 'reference product': 'manganese', 'input': ('cutoff391', '156367140fa6ac6c4903900b7a8e8149'), 'output': ('materials', 'edad4946ef5a4ed78c3c9206735edc5a')}\n",
      "technosphere: {'name': 'market for molybdenum', 'amount': 0.031, 'database': 'cutoff391', 'location': 'GLO', 'unit': 'kilogram', 'type': 'technosphere', 'reference product': 'molybdenum', 'input': ('cutoff391', '0f23c62795fba0e3169d798d7048a26f'), 'output': ('materials', 'edad4946ef5a4ed78c3c9206735edc5a')}\n",
      "technosphere: {'name': 'market for nickel, class 1', 'amount': 0.576, 'database': 'cutoff391', 'location': 'GLO', 'unit': 'kilogram', 'type': 'technosphere', 'reference product': 'nickel, class 1', 'input': ('cutoff391', '4347b9665d0aea69c7956fa09ac8db07'), 'output': ('materials', 'edad4946ef5a4ed78c3c9206735edc5a')}\n",
      "technosphere: {'name': 'market for silicon, metallurgical grade', 'amount': 0.003, 'database': 'cutoff391', 'location': 'GLO', 'unit': 'kilogram', 'type': 'technosphere', 'reference product': 'silicon, metallurgical grade', 'input': ('cutoff391', '1ffe09506f70be4dcd98071865e8a549'), 'output': ('materials', 'edad4946ef5a4ed78c3c9206735edc5a')}\n",
      "technosphere: {'name': 'market for titanium', 'amount': 0.009, 'database': 'cutoff391', 'location': 'GLO', 'unit': 'kilogram', 'type': 'technosphere', 'reference product': 'titanium', 'input': ('cutoff391', 'cbba1d5c4658c85a617f5173516cc257'), 'output': ('materials', 'edad4946ef5a4ed78c3c9206735edc5a')}\n",
      "next activity\n",
      "Al 6061 kilogram process\n",
      "technosphere: {'name': 'market for aluminium, primary, ingot', 'amount': 0.979, 'database': 'cutoff391', 'location': 'IAI Area, EU27 & EFTA', 'unit': 'kilogram', 'type': 'technosphere', 'reference product': 'aluminium, primary, ingot', 'input': ('cutoff391', '823822c452c6258a6ce360939935f26f'), 'output': ('materials', 'bdcf107b10774353a917f25039aac9f6')}\n",
      "technosphere: {'name': 'market for chromium', 'amount': 0.002, 'database': 'cutoff391', 'location': 'GLO', 'unit': 'kilogram', 'type': 'technosphere', 'reference product': 'chromium', 'input': ('cutoff391', '3de11ec49c2a8ff3ec0008303b75d475'), 'output': ('materials', 'bdcf107b10774353a917f25039aac9f6')}\n",
      "technosphere: {'name': 'market for copper scrap, sorted, pressed', 'amount': 0.003, 'database': 'cutoff391', 'location': 'GLO', 'unit': 'kilogram', 'type': 'technosphere', 'reference product': 'copper scrap, sorted, pressed', 'input': ('cutoff391', '4d5473bbb237606275ad372ddedf037f'), 'output': ('materials', 'bdcf107b10774353a917f25039aac9f6')}\n",
      "technosphere: {'name': 'market for magnesium', 'amount': 0.01, 'database': 'cutoff391', 'location': 'GLO', 'unit': 'kilogram', 'type': 'technosphere', 'reference product': 'magnesium', 'input': ('cutoff391', '4c28de4114cc15a555d2c447878fb615'), 'output': ('materials', 'bdcf107b10774353a917f25039aac9f6')}\n",
      "technosphere: {'name': 'market for silicon, metallurgical grade', 'amount': 0.006, 'database': 'cutoff391', 'location': 'GLO', 'unit': 'kilogram', 'type': 'technosphere', 'reference product': 'silicon, metallurgical grade', 'input': ('cutoff391', '1ffe09506f70be4dcd98071865e8a549'), 'output': ('materials', 'bdcf107b10774353a917f25039aac9f6')}\n",
      "next activity\n",
      "AFRP kilogram process\n",
      "technosphere: {'name': 'market for carbon fibre reinforced plastic, injection moulded', 'amount': 1, 'database': 'cutoff391', 'location': 'GLO', 'unit': 'kilogram', 'type': 'technosphere', 'reference product': 'carbon fibre reinforced plastic, injection moulded', 'input': ('cutoff391', 'c52fd3aad9cb8921c70e21a0206414f6'), 'output': ('materials', 'fab05c17548a44a0a7852635c994794b')}\n",
      "next activity\n"
     ]
    },
    {
     "data": {
      "text/plain": "<Figure size 640x480 with 1 Axes>",
      "image/png": "[encoded data removed]"
     },
     "metadata": {},
     "output_type": "display_data"
    }
   ],
   "source": [
    "graph = nx.DiGraph()\n",
    "\n",
    "for activity in selected_database:\n",
    "\n",
    "    # Add the activity as a node to the graph\n",
    "    graph.add_node(activity['name'], label=activity['name'], arrows=True, color='blue')\n",
    "    print(activity['name'], activity['unit'], activity['type'])\n",
    "\n",
    "    # Iterate over each exchange\n",
    "    for exchange in activity.exchanges():\n",
    "        # Get the input and output activities\n",
    "        input_activity = exchange['input']\n",
    "\n",
    "        if exchange.as_dict()['type'] =='technosphere': print('technosphere:', exchange.as_dict())\n",
    "\n",
    "        output_activity = activity.key\n",
    "\n",
    "        # Add edges to the graph connecting the activities\n",
    "       # if exchange.as_dict()['type'] =='technosphere':\n",
    "        #        graph.add_edge(activity['name'], exchange.as_dict()['name'], arrows=True, color='red')\n",
    "\n",
    "    print('next activity')\n",
    "    # Export the graph to GEXF format\n",
    "    #nx.write_gexf(graph, \"my_graph4.gexf\")\n",
    "#nx.write_graphml(graph,'test.graphml')\n",
    "nx.draw(graph,  with_labels=True, node_shape='s', node_color='black', edge_color='blue')"
   ],
   "metadata": {
    "collapsed": false,
    "ExecuteTime": {
     "end_time": "2023-05-31T17:07:41.178630100Z",
     "start_time": "2023-05-31T17:07:40.650018400Z"
    }
   }
  }
 ],
 "metadata": {
  "kernelspec": {
   "display_name": "Python 3",
   "language": "python",
   "name": "python3"
  },
  "language_info": {
   "codemirror_mode": {
    "name": "ipython",
    "version": 2
   },
   "file_extension": ".py",
   "mimetype": "text/x-python",
   "name": "python",
   "nbconvert_exporter": "python",
   "pygments_lexer": "ipython2",
   "version": "2.7.6"
  }
 },
 "nbformat": 4,
 "nbformat_minor": 0
}
