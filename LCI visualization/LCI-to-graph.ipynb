{
 "cells": [
  {
   "cell_type": "code",
   "execution_count": null,
   "metadata": {
    "ExecuteTime": {
     "end_time": "2023-05-31T15:10:51.303807600Z",
     "start_time": "2023-05-31T15:10:42.677635700Z"
    },
    "collapsed": true
   },
   "outputs": [],
   "source": [
    "import brightway2 as bw\n",
    "import bw2data as bd\n",
    "import lxml.builder\n",
    "import networkx as nx\n",
    "from lxml.builder import ElementMaker\n",
    "from lxml.etree import tostring\n",
    "#import pygephi"
   ]
  },
  {
   "attachments": {},
   "cell_type": "markdown",
   "metadata": {},
   "source": [
    "### Load the required project and select the desired database"
   ]
  },
  {
   "cell_type": "code",
   "execution_count": null,
   "metadata": {
    "ExecuteTime": {
     "end_time": "2023-05-31T15:10:56.119484100Z",
     "start_time": "2023-05-31T15:10:56.000494700Z"
    },
    "collapsed": false
   },
   "outputs": [],
   "source": [
    "bw.projects.set_current(\"alicia\")\n",
    "selected_database = bw.Database(\"fuelcell_exact202307\")"
   ]
  },
  {
   "attachments": {},
   "cell_type": "markdown",
   "metadata": {
    "collapsed": false
   },
   "source": [
    "### For checking the life cycle inventory\n",
    "\n",
    "To print the all the details concerning the activities and corresponding exchanges from the selected database. Only use, *if required*"
   ]
  },
  {
   "cell_type": "code",
   "execution_count": null,
   "metadata": {},
   "outputs": [],
   "source": [
    "from print_lci import *\n",
    "print_lci_all (selected_database)"
   ]
  },
  {
   "cell_type": "code",
   "execution_count": null,
   "metadata": {},
   "outputs": [],
   "source": [
    "from print_lci import *\n",
    "print_lci_classify(selected_database) #classifies the activities within the selected database."
   ]
  },
  {
   "attachments": {},
   "cell_type": "markdown",
   "metadata": {},
   "source": [
    "### Convert to graphml file.\n",
    "\n",
    "Declare colors and other parameters required for the various nodes (activities, technosphere flows etc.) and edges/lines here.\n"
   ]
  },
  {
   "cell_type": "code",
   "execution_count": null,
   "metadata": {},
   "outputs": [],
   "source": [
    "#Colors for nodes and edges\n",
    "activity_node_color = \"blue\"\n",
    "production_node_color = 'black'\n",
    "production_edge_color = 'black'\n",
    "technosphere_node_color = 'purple'\n",
    "technosphere_edge_color = 'purple'\n",
    "biosphere_node_color ='green'\n",
    "biosphere_edge_color = 'green'\n",
    "\n",
    "#line types for nodes and edges\n",
    "production_line_style='Solid'\n",
    "technosphere_line_style='Dash'\n",
    "biosphere_line_style='Dots'\n",
    "\n",
    "# node widths and heights\n",
    "parent_activity_width = 26\n",
    "production_node_width = 22\n",
    "technosphere_node_width = 20\n",
    "biosphere_node_width = 20"
   ]
  },
  {
   "attachments": {},
   "cell_type": "markdown",
   "metadata": {},
   "source": [
    "### Conversion of LCI to network diagram\n",
    "Convert the activities, the products, technosphere and biosphere flows into an interconnected network diagram. This resultant file is stored in the graphml file format. The \"draw\" functions of networkx are used because graphml allows much more flexibility in terms of export and editing using open-source graphml editing programs such as gephi and cytoscape. One disadvantage of graphml is that it only allows datatypes of numbers (float, int etc.) and strings. Any other datatype as node or edge attributes will result in a \"type\" error. Another option could be use the gml format, i.e a format created by the team behind networkx - [GML format](https://networkx.org/documentation/stable/reference/readwrite/generated/networkx.readwrite.gml.write_gml.html)."
   ]
  },
  {
   "cell_type": "code",
   "execution_count": null,
   "metadata": {
    "ExecuteTime": {
     "end_time": "2023-05-31T17:07:41.178630100Z",
     "start_time": "2023-05-31T17:07:40.650018400Z"
    },
    "collapsed": false
   },
   "outputs": [],
   "source": [
    "from bw_db_extract import *\n",
    "graph = nx.DiGraph()\n",
    "for activity in selected_database:\n",
    "\n",
    "    # Iterate over each exchange in the activity\n",
    "    for exchange in activity.exchanges():\n",
    "\n",
    "        #Add the parent activity as a node. Repeated parent activities (as the loop iterates)  will be ignored by networkX\n",
    "        activity_name = \"Activity - \" + activity['name']\n",
    "        graph.add_node(activity_name, label=activity['name'], amount=0,unit=activity['unit'], location=activity['location'],type=activity['type'], from_database=activity['database'],  color=activity_node_color, width=parent_activity_width)\n",
    "        \n",
    "        # Production 'output' are added as outputs from the parent activity\n",
    "        # Note that, within activities, all the exchanges are invoked using the available input, output tuples within each exchaneg dictionary. This way, the code redundacncies arising from the differences in the data formats of exchanges for type1 and type2 activities can be minimized.\n",
    "\n",
    "        if exchange.as_dict()['type'] =='production':\n",
    "\n",
    "            #extract the database name from the output tuple within the exchange dictionary\n",
    "            name_production_database = exchange.as_dict()['output'][0]\n",
    "            exchange_name = exchange.as_dict()['output'][1]\n",
    "            exchange_type = exchange.as_dict()['type']\n",
    "\n",
    "            #extract the required parameters from this database for production\n",
    "            exchange_details = extract_details(name_production_database, exchange_name, exchange_type)\n",
    "            production_database, production_display_name, production_reference_product, production_location, production_unit  = exchange_details [0:5]\n",
    "\n",
    "            #add a node corresponding to the exchange\n",
    "            graph.add_node(production_display_name, label=production_reference_product, amount=exchange.as_dict()['amount'], unit=production_unit, location=production_location, type=exchange.as_dict()['type'],from_database=name_production_database,  color=production_node_color, width = production_node_width)\n",
    "\n",
    "            #add the arrow/edge connecting this exchange to the parent activity \"node\"\n",
    "            graph.add_edge(activity_name, production_display_name, color=production_edge_color, line_type=production_line_style, arrows=True)\n",
    "\n",
    "        elif exchange.as_dict()['type'] =='technosphere':\n",
    "\n",
    "            name_technosphere_database = exchange.as_dict()['input'][0]\n",
    "            exchange_name = exchange.as_dict()['input'][1]\n",
    "            exchange_type = exchange.as_dict()['type']\n",
    "\n",
    "            #extract the required parameters from this database for production\n",
    "            exchange_details = extract_details(name_technosphere_database, exchange_name, exchange_type)\n",
    "            technosphere_database, technosphere_display_name, technosphere_reference_product, technosphere_location, technosphere_unit  = exchange_details [0:5]\n",
    "\n",
    "            #add a node corresponding to the exchange\n",
    "            graph.add_node(technosphere_reference_product, label=technosphere_display_name, amount=exchange.as_dict()['amount'], unit=technosphere_unit, location=technosphere_location, type=exchange.as_dict()['type'],from_database=name_technosphere_database,  color=technosphere_node_color, width = technosphere_node_width)\n",
    "\n",
    "            #add the arrow/edge connecting this exchange to the parent activity \"node\"\n",
    "            graph.add_edge(technosphere_reference_product, activity_name, color=technosphere_edge_color,  line_type=technosphere_line_style, arrows=True)\n",
    "\n",
    "        elif exchange.as_dict()['type'] =='biosphere':\n",
    "\n",
    "            name_biosphere_database = exchange.as_dict()['input'][0]\n",
    "            exchange_name = exchange.as_dict()['input'][1]\n",
    "            exchange_type = exchange.as_dict()['type']\n",
    "\n",
    "            #extract the required parameters from this database for production\n",
    "            exchange_details = extract_details(name_biosphere_database, exchange_name, exchange_type)\n",
    "            biosphere_database, biosphere_display_name, biosphere_categories, biosphere_unit = exchange_details [0:4]\n",
    "\n",
    "\n",
    "            # the node and edges/arrows are added to the graph\n",
    "            graph.add_node(biosphere_categories, label=biosphere_display_name, amount=exchange.as_dict()['amount'], unit=biosphere_unit, location=biosphere_categories, type=exchange.as_dict()['type'],from_database=name_biosphere_database,  color=biosphere_node_color, width = biosphere_node_width)\n",
    "\n",
    "            graph.add_edge(activity_name,biosphere_categories, color=biosphere_edge_color, line_type=biosphere_line_style, arrows=True)\n",
    "\n",
    "#Export to graphml format\n",
    "nx.write_graphml(graph,'fuelcell_exact202307.graphml', prettyprint=True)\n",
    "\n",
    "#just for debugging, we can make a live plot. Note: Do not use this for except for debugging because the figure is immutable.\n",
    "#nx.draw(graph,  with_labels=True, node_shape='s', node_color='black', edge_color='blue')"
   ]
  },
  {
   "cell_type": "code",
   "execution_count": null,
   "metadata": {},
   "outputs": [],
   "source": [
    "#Old code, for future deletion\n",
    "\n",
    "graph = nx.DiGraph()\n",
    "\n",
    "for activity in selected_database:\n",
    "\n",
    "\n",
    "    #print(activity['name'], activity['unit'], activity['type'], activity['location']) # for debugging only\n",
    "\n",
    "    # Iterate over each exchange\n",
    "    for exchange in activity.exchanges():\n",
    "\n",
    "        #Add the parent activity as a node. Repeated parent activities (as the loop iterates)  will be ignored by networkX\n",
    "        \n",
    "        graph.add_node(activity['name'], label=\"Activity - \" + activity['name'], amount=0,unit=activity['unit'], location=activity['location'],type=activity['type'], from_database=activity['database'],  color=activity_node_color)\n",
    "        \n",
    "        #Production 'output' are added as outputs from the parent activity\n",
    "\n",
    "        if exchange.as_dict()['type'] =='production':\n",
    "            production_display_name = exchange.as_dict()[\"reference product\"] #+ \"-\" + str(exchange.as_dict()[\"amount\"]) + \" \" + exchange.as_dict()[\"unit\"]\n",
    "            \n",
    "            #add a node corresponding to the exchange\n",
    "            graph.add_node(production_display_name, label=exchange.as_dict()['reference product'], amount=exchange.as_dict()['amount'], unit=exchange.as_dict()['unit'], location=exchange.as_dict()['location'], type=exchange.as_dict()['type'],from_database=exchange.as_dict()['database'],  color=production_node_color)\n",
    "\n",
    "            #add the arrow/edge connecting this exchange to the parent activity \"node\"\n",
    "            graph.add_edge(activity['name'], production_display_name, color=production_edge_color, line_style=production_line_style, arrows=True)\n",
    "\n",
    "        #Technosphere 'input' exchanges to the parent activity are added\n",
    "\n",
    "        elif exchange.as_dict()['type'] =='technosphere' :\n",
    "\n",
    "            #add a node corresponding to the exchange\n",
    "            graph.add_node(exchange.as_dict()['reference product'], label=exchange.as_dict()['name'], amount=exchange.as_dict()['amount'], unit=exchange.as_dict()['unit'], location=exchange.as_dict()['location'], type=exchange.as_dict()['type'],from_database=exchange.as_dict()['database'],  color=technosphere_node_color)\n",
    "\n",
    "            #add the arrow/edge connecting this exchange to the parent activity \"node\"\n",
    "            graph.add_edge(exchange.as_dict()['reference product'], activity['name'], color=technosphere_edge_color,  line_style=technosphere_line_style, arrows=True)\n",
    "            \n",
    "        #Biosphere 'output' exchanges from the parent activity are added to the graph\n",
    "        elif exchange.as_dict()['type'] =='biosphere':\n",
    "\n",
    "            #Only the key, amount and type of the bioshpere exchange are present in the exchange.as_dict(). Therefore to get the, name of exchange, the key must be used to invoke the name from the cocnerned biosphere database. The key is present as a tuple of the form - 'input': ('biosphere3', 'f9749677-9c9f-4678-ab55-c607dfdc2cb9').\n",
    "            biodb=bw.Database(\"biosphere3\")\n",
    "            name_biosphere_exchange = biodb.get(exchange.as_dict()['input'][1])['name']\n",
    "            unit_biosphere_exchange = biodb.get(exchange.as_dict()['input'][1])['unit']\n",
    "\n",
    "            #biosphere category is a tuple in the form (air, urban air close to ground). Therefore, we store it as string before referring to it as label and location in the corresponding node.\n",
    "            biosphere_category = biodb.get(exchange.as_dict()['input'][1])[\"categories\"][0]\n",
    "            biosphere_category_detail = biodb.get(exchange.as_dict()['input'][1])[\"categories\"][0]\n",
    "\n",
    "            # the node and edges/arrows are added to the graph\n",
    "            graph.add_node(name_biosphere_exchange, label=biosphere_category, amount=exchange.as_dict()['amount'], unit=unit_biosphere_exchange, location=biosphere_category_detail, type=exchange.as_dict()['type'],from_database=\"biosphere\",  color=biosphere_node_color)\n",
    "\n",
    "            graph.add_edge(activity['name'],name_biosphere_exchange, color=biosphere_edge_color, line_style=biosphere_line_style, arrows=True)\n",
    "        # Add edges to the graph connecting the activities\n",
    "       # if exchange.as_dict()['type'] =='technosphere':\n",
    "        #        \n",
    "\n",
    "        #print('next activity')\n",
    "# Export the graph to GEXF format, if requird\n",
    "#nx.write_gexf(graph, \"my_graph4.gexf\")\n",
    "\n",
    "#Export to graphml format\n",
    "nx.write_graphml(graph,'EXACT_Loop3_20230327_rev1.graphml', prettyprint=True)\n",
    "\n",
    "#just for debugging, we can make a live plot. Note: Do not use this for except for debugging because the figure is immutable.\n",
    "nx.draw(graph,  with_labels=True, node_shape='s', node_color='black', edge_color='blue')"
   ]
  }
 ],
 "metadata": {
  "kernelspec": {
   "display_name": "Python 3",
   "language": "python",
   "name": "python3"
  },
  "language_info": {
   "codemirror_mode": {
    "name": "ipython",
    "version": 3
   },
   "file_extension": ".py",
   "mimetype": "text/x-python",
   "name": "python",
   "nbconvert_exporter": "python",
   "pygments_lexer": "ipython3",
   "version": "3.9.16"
  }
 },
 "nbformat": 4,
 "nbformat_minor": 0
}
