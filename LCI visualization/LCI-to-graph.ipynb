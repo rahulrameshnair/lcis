{
 "cells": [
  {
   "cell_type": "code",
   "execution_count": 1,
   "metadata": {
    "ExecuteTime": {
     "end_time": "2023-05-31T15:10:51.303807600Z",
     "start_time": "2023-05-31T15:10:42.677635700Z"
    },
    "collapsed": true
   },
   "outputs": [],
   "source": [
    "import brightway2 as bw\n",
    "import bw2data as bd\n",
    "import lxml.builder\n",
    "import networkx as nx\n",
    "from lxml.builder import ElementMaker\n",
    "from lxml.etree import tostring\n",
    "#import pygephi\n"
   ]
  },
  {
   "cell_type": "code",
   "execution_count": 2,
   "metadata": {
    "ExecuteTime": {
     "end_time": "2023-05-31T15:10:56.119484100Z",
     "start_time": "2023-05-31T15:10:56.000494700Z"
    },
    "collapsed": false
   },
   "outputs": [],
   "source": [
    "# Load the required project and select the desired database\n",
    "bw.projects.set_current(\"staging\")\n",
    "selected_database = bw.Database(\"materials2\")"
   ]
  },
  {
   "attachments": {},
   "cell_type": "markdown",
   "metadata": {
    "collapsed": false
   },
   "source": [
    "### Using the inbuilt gexf function to generate the graph of the database\n",
    "This is not the recommended method because of the limitations with the built-in functions."
   ]
  },
  {
   "cell_type": "code",
   "execution_count": null,
   "metadata": {
    "collapsed": false
   },
   "outputs": [],
   "source": [
    "gexfgraph = bw.DatabaseToGEXF(\"biosphere3\")\n",
    "#gexfgraph.get_data(E=lxml.builder.ElementMaker)\n",
    "gexfgraph.export()\n",
    "#gexfgraph.get_data(E=ElementMaker)"
   ]
  },
  {
   "attachments": {},
   "cell_type": "markdown",
   "metadata": {
    "collapsed": false
   },
   "source": [
    "### Use this section only for debugging\n",
    "\n",
    "To check and debug different parts of the activities, exchanges, and their key-value pairs."
   ]
  },
  {
   "cell_type": "code",
   "execution_count": 5,
   "metadata": {
    "collapsed": false
   },
   "outputs": [
    {
     "name": "stdout",
     "output_type": "stream",
     "text": [
      "activity is 'Pyrolytic carbon' (kilogram, GLO, None)\n",
      "Production output\n",
      "\n",
      "Pyrolytic carbon 0.65 kilogram GLO\n",
      "Technosphere Input \n",
      "\n",
      "sawing, softwood 1 kilogram Europe without Switzerland\n",
      "activity is 'Char production' (unit, GLO, None)\n",
      "Production output\n",
      "\n",
      "Char production 1 unit GLO\n",
      "Technosphere Input \n",
      "\n",
      "bamboo forestry, sustainable forest management 1 kilogram CN\n"
     ]
    }
   ],
   "source": [
    "for activity in selected_database:\n",
    "\n",
    "    if 'worksheet name' not in activity:\n",
    "        print(\"activity is\", activity)\n",
    "        for exchange in activity.exchanges():\n",
    "            #print(\"exchange is\", exchange.as_dict(),\"\\n\")\n",
    "            if exchange.as_dict()['type']=='technosphere':\n",
    "                print('Technosphere Input \\n')\n",
    "                db_name = bw.Database(exchange.as_dict()['input'][0])\n",
    "                print(db_name.get(exchange.as_dict()['input'][1])[\"name\"], exchange.as_dict()['amount'], db_name.get(exchange.as_dict()['input'][1])[\"unit\"], db_name.get(exchange.as_dict()['input'][1])[\"location\"] )\n",
    "            if exchange.as_dict()['type']=='production':\n",
    "                print('Production output\\n')\n",
    "                db_name_p = bw.Database(exchange.as_dict()['output'][0])\n",
    "                print(db_name_p.get(exchange.as_dict()['output'][1])[\"name\"],exchange.as_dict()['amount'],db_name_p.get(exchange.as_dict()['output'][1])[\"unit\"],db_name_p.get(exchange.as_dict()['output'][1])[\"location\"])\n",
    "\n"
   ]
  },
  {
   "cell_type": "code",
   "execution_count": 7,
   "metadata": {},
   "outputs": [
    {
     "name": "stdout",
     "output_type": "stream",
     "text": [
      "activity is 'Pyrolytic carbon' (kilogram, GLO, None)\n",
      "Production output\n",
      "\n",
      "Pyrolytic carbon 0.65 kilogram GLO\n",
      "Technosphere Input \n",
      "\n",
      "sawing, softwood 1 kilogram Europe without Switzerland\n",
      "activity is 'Char production' (unit, GLO, None)\n",
      "Production output\n",
      "\n",
      "Char production 1 unit GLO\n",
      "Technosphere Input \n",
      "\n",
      "bamboo forestry, sustainable forest management 1 kilogram CN\n"
     ]
    }
   ],
   "source": [
    "import exchanges_from_activities as efa\n",
    "for activity in selected_database:\n",
    "\n",
    "    if 'worksheet name' not in activity:\n",
    "        print(\"activity is\", activity)\n",
    "        for exchange in activity.exchanges():\n",
    "            #print(\"exchange is\", exchange.as_dict(),\"\\n\")\n",
    "            if exchange.as_dict()['type']=='technosphere':\n",
    "                print('Technosphere Input \\n')\n",
    "                db_name = exchange.as_dict()['input'][0]\n",
    "                exchange_key=exchange.as_dict()['input'][1]\n",
    "                exchange_name, exchange_unit, exchange_location = efa.invoke_exchanges(db_name,exchange_key)\n",
    "                print(exchange_name, exchange.as_dict()['amount'], exchange_unit, exchange_location )\n",
    "            if exchange.as_dict()['type']=='production':\n",
    "                print('Production output\\n')\n",
    "                db_name = exchange.as_dict()['output'][0]\n",
    "                exchange_key=exchange.as_dict()['output'][1]\n",
    "                exchange_name, exchange_unit, exchange_location = efa.invoke_exchanges(db_name,exchange_key)\n",
    "                print(exchange_name, exchange.as_dict()['amount'], exchange_unit, exchange_location )\n",
    "\n",
    "\n"
   ]
  },
  {
   "cell_type": "code",
   "execution_count": 89,
   "metadata": {},
   "outputs": [
    {
     "name": "stdout",
     "output_type": "stream",
     "text": [
      "'AFRP production' (kilogram, GLO, None)\n",
      "biosphhere exists \n",
      " {'output': ('materials2', 'fab05c17548a44a0a7852635c994794b'), 'input': ('biosphere3', 'f9749677-9c9f-4678-ab55-c607dfdc2cb9'), 'amount': 1, 'type': 'biosphere'}\n",
      "'Carbon dioxide, fossil' (kilogram, None, ('air', 'urban air close to ground'))\n",
      "Carbon dioxide, fossil\n",
      "kilogram\n",
      "emission\n",
      "'GFRP production' (kilogram, GLO, None)\n",
      "biosphhere exists \n",
      " {'output': ('materials2', 'cd16b5591d9e48f3a3ad7bed69a7f250'), 'input': ('biosphere3', '50f528ca-45e7-42d0-b399-998ea63ddabf'), 'amount': 1, 'type': 'biosphere'}\n",
      "'Methane, bromochlorodifluoro-, Halon 1211' (kilogram, None, ('air', 'lower stratosphere + upper troposphere'))\n",
      "Methane, bromochlorodifluoro-, Halon 1211\n",
      "kilogram\n",
      "emission\n",
      "'Ti64 production' (kilogram, GLO, None)\n",
      "biosphhere exists \n",
      " {'output': ('materials2', '0508a9434cd24602a9e74cdfd0f70e34'), 'input': ('biosphere3', '349b29d1-3e58-4c66-98b9-9d1a076efd2e'), 'amount': 1, 'type': 'biosphere'}\n",
      "'Carbon dioxide, fossil' (kilogram, None, ('air',))\n",
      "Carbon dioxide, fossil\n",
      "kilogram\n",
      "emission\n",
      "biosphhere exists \n",
      " {'output': ('materials2', '0508a9434cd24602a9e74cdfd0f70e34'), 'input': ('biosphere3', '49c594c6-b6a8-42a3-95c5-cca812fda80b'), 'amount': 1, 'type': 'biosphere'}\n",
      "'Carbon monoxide, fossil' (kilogram, None, ('air', 'low population density, long-term'))\n",
      "Carbon monoxide, fossil\n",
      "kilogram\n",
      "emission\n",
      "'High-Strength Steel' (kilogram, GLO, None)\n",
      "'Ni-based Superalloy production' (kilogram, GLO, None)\n",
      "biosphhere exists \n",
      " {'output': ('materials2', 'edad4946ef5a4ed78c3c9206735edc5a_copy1'), 'input': ('biosphere3', '49c594c6-b6a8-42a3-95c5-cca812fda80b'), 'amount': 1, 'type': 'biosphere'}\n",
      "'Carbon monoxide, fossil' (kilogram, None, ('air', 'low population density, long-term'))\n",
      "Carbon monoxide, fossil\n",
      "kilogram\n",
      "emission\n",
      "'Char production' (unit, GLO, None)\n",
      "'Pyrolytic carbon' (kilogram, GLO, None)\n",
      "biosphhere exists \n",
      " {'output': ('materials2', '421695138c4741af8deeb228ed68b13d'), 'input': ('biosphere3', 'f9749677-9c9f-4678-ab55-c607dfdc2cb9'), 'amount': 0.35, 'type': 'biosphere'}\n",
      "'Carbon dioxide, fossil' (kilogram, None, ('air', 'urban air close to ground'))\n",
      "Carbon dioxide, fossil\n",
      "kilogram\n",
      "emission\n",
      "'CFRP production' (kilogram, GLO, None)\n"
     ]
    }
   ],
   "source": [
    "for activity in selected_database:\n",
    "\n",
    "    print(activity)\n",
    "    for exchange in activity.exchanges():\n",
    "        if exchange.as_dict()[\"type\"] == \"biosphere\":\n",
    "            print (\"biosphhere exists \\n\", exchange.as_dict())\n",
    "            biodb = bw.Database(\"biosphere3\")\n",
    "            print(biodb.get(exchange.as_dict()['input'][1]))\n",
    "            print(biodb.get(exchange.as_dict()['input'][1])[\"name\"])\n",
    "            print(biodb.get(exchange.as_dict()['input'][1])[\"unit\"])\n",
    "            print(biodb.get(exchange.as_dict()['input'][1])[\"type\"])\n"
   ]
  },
  {
   "attachments": {},
   "cell_type": "markdown",
   "metadata": {},
   "source": [
    "### Convert to graphml file.\n",
    "Convert the activities, the products, technosphere and biosphere flows into an interconnected network diagram. This resultant file is stored in the graphml file format. The \"draw\" functins of networkx are used because graphml allows much more flexibility in terms of export and editing using other open-source graphml editing programs such as gephi and cytoscape."
   ]
  },
  {
   "cell_type": "code",
   "execution_count": 35,
   "metadata": {},
   "outputs": [],
   "source": [
    "#Declare colors and other parameters required for the various nodes (activities, technosphere flows etc.) and edges/lines here.\n",
    "\n",
    "    #Colors for nodes and edges\n",
    "activity_node_color = \"orange\"\n",
    "production_node_color = 'black'\n",
    "production_edge_color = 'black'\n",
    "technosphere_node_color = 'purple'\n",
    "technosphere_edge_color = 'purple'\n",
    "biosphere_node_color ='green'\n",
    "biosphere_edge_color = 'green'\n",
    "\n",
    "    #line types for nodes and edges\n",
    "production_line_style='solid'\n",
    "technosphere_line_style='solid'\n",
    "biosphere_line_style='dashed'"
   ]
  },
  {
   "cell_type": "code",
   "execution_count": 36,
   "metadata": {
    "ExecuteTime": {
     "end_time": "2023-05-31T17:07:41.178630100Z",
     "start_time": "2023-05-31T17:07:40.650018400Z"
    },
    "collapsed": false
   },
   "outputs": [
    {
     "ename": "KeyError",
     "evalue": "'reference product'",
     "output_type": "error",
     "traceback": [
      "\u001b[1;31m---------------------------------------------------------------------------\u001b[0m",
      "\u001b[1;31mKeyError\u001b[0m                                  Traceback (most recent call last)",
      "Cell \u001b[1;32mIn[36], line 31\u001b[0m\n\u001b[0;32m     26\u001b[0m \u001b[39m#Technosphere 'input' exchanges to the parent activity are added\u001b[39;00m\n\u001b[0;32m     28\u001b[0m \u001b[39melif\u001b[39;00m exchange\u001b[39m.\u001b[39mas_dict()[\u001b[39m'\u001b[39m\u001b[39mtype\u001b[39m\u001b[39m'\u001b[39m] \u001b[39m==\u001b[39m\u001b[39m'\u001b[39m\u001b[39mtechnosphere\u001b[39m\u001b[39m'\u001b[39m :\n\u001b[0;32m     29\u001b[0m \n\u001b[0;32m     30\u001b[0m     \u001b[39m#add a node corresponding to the exchange\u001b[39;00m\n\u001b[1;32m---> 31\u001b[0m     graph\u001b[39m.\u001b[39madd_node(exchange\u001b[39m.\u001b[39;49mas_dict()[\u001b[39m'\u001b[39;49m\u001b[39mreference product\u001b[39;49m\u001b[39m'\u001b[39;49m], label\u001b[39m=\u001b[39mexchange\u001b[39m.\u001b[39mas_dict()[\u001b[39m'\u001b[39m\u001b[39mname\u001b[39m\u001b[39m'\u001b[39m], amount\u001b[39m=\u001b[39mexchange\u001b[39m.\u001b[39mas_dict()[\u001b[39m'\u001b[39m\u001b[39mamount\u001b[39m\u001b[39m'\u001b[39m], unit\u001b[39m=\u001b[39mexchange\u001b[39m.\u001b[39mas_dict()[\u001b[39m'\u001b[39m\u001b[39munit\u001b[39m\u001b[39m'\u001b[39m], location\u001b[39m=\u001b[39mexchange\u001b[39m.\u001b[39mas_dict()[\u001b[39m'\u001b[39m\u001b[39mlocation\u001b[39m\u001b[39m'\u001b[39m], \u001b[39mtype\u001b[39m\u001b[39m=\u001b[39mexchange\u001b[39m.\u001b[39mas_dict()[\u001b[39m'\u001b[39m\u001b[39mtype\u001b[39m\u001b[39m'\u001b[39m],from_database\u001b[39m=\u001b[39mexchange\u001b[39m.\u001b[39mas_dict()[\u001b[39m'\u001b[39m\u001b[39mdatabase\u001b[39m\u001b[39m'\u001b[39m],  color\u001b[39m=\u001b[39mtechnosphere_node_color)\n\u001b[0;32m     33\u001b[0m     \u001b[39m#add the arrow/edge connecting this exchange to the parent activity \"node\"\u001b[39;00m\n\u001b[0;32m     34\u001b[0m     graph\u001b[39m.\u001b[39madd_edge(exchange\u001b[39m.\u001b[39mas_dict()[\u001b[39m'\u001b[39m\u001b[39mreference product\u001b[39m\u001b[39m'\u001b[39m], activity[\u001b[39m'\u001b[39m\u001b[39mname\u001b[39m\u001b[39m'\u001b[39m], color\u001b[39m=\u001b[39mtechnosphere_edge_color,  line_style\u001b[39m=\u001b[39mtechnosphere_line_style, arrows\u001b[39m=\u001b[39m\u001b[39mTrue\u001b[39;00m)\n",
      "\u001b[1;31mKeyError\u001b[0m: 'reference product'"
     ]
    }
   ],
   "source": [
    "graph = nx.DiGraph()\n",
    "\n",
    "for activity in selected_database:\n",
    "\n",
    "\n",
    "    #print(activity['name'], activity['unit'], activity['type'], activity['location']) # for debugging only\n",
    "\n",
    "    # Iterate over each exchange\n",
    "    for exchange in activity.exchanges():\n",
    "\n",
    "        #Add the parent activity as a node. Repeated parent activities (as the loop iterates)  will be ignored by networkX\n",
    "        \n",
    "        graph.add_node(activity['name'], label=\"Activity - \" + activity['name'], amount=0,unit=activity['unit'], location=activity['location'],type=activity['type'], from_database=activity['database'],  color=activity_node_color)\n",
    "        \n",
    "        #Production 'output' are added as outputs from the parent activity\n",
    "\n",
    "        if exchange.as_dict()['type'] =='production':\n",
    "            production_display_name = exchange.as_dict()[\"reference product\"] #+ \"-\" + str(exchange.as_dict()[\"amount\"]) + \" \" + exchange.as_dict()[\"unit\"]\n",
    "            \n",
    "            #add a node corresponding to the exchange\n",
    "            graph.add_node(production_display_name, label=exchange.as_dict()['reference product'], amount=exchange.as_dict()['amount'], unit=exchange.as_dict()['unit'], location=exchange.as_dict()['location'], type=exchange.as_dict()['type'],from_database=exchange.as_dict()['database'],  color=production_node_color)\n",
    "\n",
    "            #add the arrow/edge connecting this exchange to the parent activity \"node\"\n",
    "            graph.add_edge(activity['name'], production_display_name, color=production_edge_color, line_style=production_line_style, arrows=True)\n",
    "\n",
    "        #Technosphere 'input' exchanges to the parent activity are added\n",
    "\n",
    "        elif exchange.as_dict()['type'] =='technosphere' :\n",
    "\n",
    "            #add a node corresponding to the exchange\n",
    "            graph.add_node(exchange.as_dict()['reference product'], label=exchange.as_dict()['name'], amount=exchange.as_dict()['amount'], unit=exchange.as_dict()['unit'], location=exchange.as_dict()['location'], type=exchange.as_dict()['type'],from_database=exchange.as_dict()['database'],  color=technosphere_node_color)\n",
    "\n",
    "            #add the arrow/edge connecting this exchange to the parent activity \"node\"\n",
    "            graph.add_edge(exchange.as_dict()['reference product'], activity['name'], color=technosphere_edge_color,  line_style=technosphere_line_style, arrows=True)\n",
    "            \n",
    "        #Biosphere 'output' exchanges from the parent activity are added to the graph\n",
    "        elif exchange.as_dict()['type'] =='biosphere':\n",
    "\n",
    "            #Only the key, amount and type of the bioshpere exchange are present in the exchange.as_dict(). Therefore to get the, name of exchange, the key must be used to invoke the name from the cocnerned biosphere database. The key is present as a tuple of the form - 'input': ('biosphere3', 'f9749677-9c9f-4678-ab55-c607dfdc2cb9').\n",
    "            biodb=bw.Database(\"biosphere3\")\n",
    "            name_biosphere_exchange = biodb.get(exchange.as_dict()['input'][1])['name']\n",
    "            unit_biosphere_exchange = biodb.get(exchange.as_dict()['input'][1])['unit']\n",
    "\n",
    "            #biosphere category is a tuple in the form (air, urban air close to ground). Therefore, we store it as string before referring to it as label and location in the corresponding node.\n",
    "            biosphere_category = biodb.get(exchange.as_dict()['input'][1])[\"categories\"][0]\n",
    "            biosphere_category_detail = biodb.get(exchange.as_dict()['input'][1])[\"categories\"][0]\n",
    "\n",
    "            # the node and edges/arrows are added to the graph\n",
    "            graph.add_node(name_biosphere_exchange, label=biosphere_category, amount=exchange.as_dict()['amount'], unit=unit_biosphere_exchange, location=biosphere_category_detail, type=exchange.as_dict()['type'],from_database=\"biosphere\",  color=biosphere_node_color)\n",
    "\n",
    "            graph.add_edge(activity['name'],name_biosphere_exchange, color=biosphere_edge_color, line_style=biosphere_line_style, arrows=True)\n",
    "        # Add edges to the graph connecting the activities\n",
    "       # if exchange.as_dict()['type'] =='technosphere':\n",
    "        #        \n",
    "\n",
    "        #print('next activity')\n",
    "# Export the graph to GEXF format, if requird\n",
    "#nx.write_gexf(graph, \"my_graph4.gexf\")\n",
    "\n",
    "#Export to graphml format\n",
    "nx.write_graphml(graph,'test11.graphml', prettyprint=True)\n",
    "\n",
    "#just for debugging, we can make a live plot. Note: Do not use this for except for debugging because the figure is immutable.\n",
    "nx.draw(graph,  with_labels=True, node_shape='s', node_color='black', edge_color='blue')"
   ]
  },
  {
   "cell_type": "code",
   "execution_count": null,
   "metadata": {},
   "outputs": [],
   "source": [
    "# implementation with external function\n",
    "graph = nx.DiGraph()\n",
    "\n",
    "for activity in selected_database:\n",
    "\n",
    "\n",
    "    # Iterate over each exchange\n",
    "    for exchange in activity.exchanges():\n",
    "\n",
    "        #Add the parent activity as a node. Repeated parent activities (as the loop iterates)  will be ignored by networkX\n",
    "        \n",
    "        graph.add_node(activity['name'], label=\"Activity - \" + activity['name'], amount=0,unit=activity['unit'], location=activity['location'],type=activity['type'], from_database=activity['database'],  color=activity_node_color)\n",
    "        \n",
    "\n",
    "    # For the case where the key 'worksheet name' is not in activity, which indicates that the activity is newly created in the database, and not copied from another database.\n",
    "\n",
    "        if 'worksheet name' not in activity:\n",
    "            \n",
    "            # The three types of exchanges - production, technosphere and biosphere - are added as nodes and connected.\n",
    "            if exchange.as_dict()['type'] =='production':\n",
    "                db_name = exchange.as_dict()['output'][0]\n",
    "                exchange_key=exchange.as_dict()['output'][1]\n",
    "                exchange_name, exchange_unit, exchange_location = efa.invoke_exchanges(db_name,exchange_key)\n",
    "                exchange_amount=exchange.as_dict()['amount']\n",
    "\n",
    "                #add a node corresponding to the exchange\n",
    "                graph.add_node(production_display_name, label=exchange.as_dict()['reference product'], amount=exchange_amount, unit=exchange_unit, location=exchange_location, type=exchange.as_dict()['type'],from_database=exchange.as_dict()['database'],  color=production_node_color)\n",
    "\n",
    "                #add the arrow/edge connecting this exchange to the parent activity \"node\"\n",
    "                graph.add_edge(activity['name'], production_display_name, color=production_edge_color, line_style=production_line_style, arrows=True)               \n",
    "            if exchange.as_dict()['type'] =='technosphere':\n",
    "\n",
    "\n",
    "        else: # The case of activities copied over from other databases or projects.\n",
    "\n",
    "        #Production 'output' are added as outputs from the parent activity\n",
    "\n",
    "            if exchange.as_dict()['type'] =='production':\n",
    "                production_display_name = exchange.as_dict()[\"reference product\"] #+ \"-\" + str(exchange.as_dict()[\"amount\"]) + \" \" + exchange.as_dict()[\"unit\"]\n",
    "                \n",
    "                #add a node corresponding to the exchange\n",
    "                graph.add_node(production_display_name, label=exchange.as_dict()['reference product'], amount=exchange.as_dict()['amount'], unit=exchange.as_dict()['unit'], location=exchange.as_dict()['location'], type=exchange.as_dict()['type'],from_database=exchange.as_dict()['database'],  color=production_node_color)\n",
    "\n",
    "                #add the arrow/edge connecting this exchange to the parent activity \"node\"\n",
    "                graph.add_edge(activity['name'], production_display_name, color=production_edge_color, line_style=production_line_style, arrows=True)\n",
    "\n",
    "            #Technosphere 'input' exchanges to the parent activity are added\n",
    "\n",
    "            elif exchange.as_dict()['type'] =='technosphere' :\n",
    "\n",
    "                #add a node corresponding to the exchange\n",
    "                graph.add_node(exchange.as_dict()['reference product'], label=exchange.as_dict()['name'], amount=exchange.as_dict()['amount'], unit=exchange.as_dict()['unit'], location=exchange.as_dict()['location'], type=exchange.as_dict()['type'],from_database=exchange.as_dict()['database'],  color=technosphere_node_color)\n",
    "\n",
    "                #add the arrow/edge connecting this exchange to the parent activity \"node\"\n",
    "                graph.add_edge(exchange.as_dict()['reference product'], activity['name'], color=technosphere_edge_color,  line_style=technosphere_line_style, arrows=True)\n",
    "                \n",
    "            #Biosphere 'output' exchanges from the parent activity are added to the graph\n",
    "            elif exchange.as_dict()['type'] =='biosphere':\n",
    "\n",
    "                #Only the key, amount and type of the bioshpere exchange are present in the exchange.as_dict(). Therefore to get the, name of exchange, the key must be used to invoke the name from the cocnerned biosphere database. The key is present as a tuple of the form - 'input': ('biosphere3', 'f9749677-9c9f-4678-ab55-c607dfdc2cb9').\n",
    "                biodb=bw.Database(\"biosphere3\")\n",
    "                name_biosphere_exchange = biodb.get(exchange.as_dict()['input'][1])['name']\n",
    "                unit_biosphere_exchange = biodb.get(exchange.as_dict()['input'][1])['unit']\n",
    "\n",
    "                #biosphere category is a tuple in the form (air, urban air close to ground). Therefore, we store it as string before referring to it as label and location in the corresponding node.\n",
    "                biosphere_category = biodb.get(exchange.as_dict()['input'][1])[\"categories\"][0]\n",
    "                biosphere_category_detail = biodb.get(exchange.as_dict()['input'][1])[\"categories\"][0]\n",
    "\n",
    "                # the node and edges/arrows are added to the graph\n",
    "                graph.add_node(name_biosphere_exchange, label=biosphere_category, amount=exchange.as_dict()['amount'], unit=unit_biosphere_exchange, location=biosphere_category_detail, type=exchange.as_dict()['type'],from_database=\"biosphere\",  color=biosphere_node_color)\n",
    "\n",
    "                graph.add_edge(activity['name'],name_biosphere_exchange, color=biosphere_edge_color, line_style=biosphere_line_style, arrows=True)\n",
    "        # Add edges to the graph connecting the activities\n",
    "       # if exchange.as_dict()['type'] =='technosphere':\n",
    "        #        \n",
    "\n",
    "        #print('next activity')\n",
    "# Export the graph to GEXF format, if requird\n",
    "#nx.write_gexf(graph, \"my_graph4.gexf\")\n",
    "\n",
    "#Export to graphml format\n",
    "nx.write_graphml(graph,'test11.graphml', prettyprint=True)\n",
    "\n",
    "#just for debugging, we can make a live plot. Note: Do not use this for except for debugging because the figure is immutable.\n",
    "nx.draw(graph,  with_labels=True, node_shape='s', node_color='black', edge_color='blue')"
   ]
  }
 ],
 "metadata": {
  "kernelspec": {
   "display_name": "Python 3",
   "language": "python",
   "name": "python3"
  },
  "language_info": {
   "codemirror_mode": {
    "name": "ipython",
    "version": 3
   },
   "file_extension": ".py",
   "mimetype": "text/x-python",
   "name": "python",
   "nbconvert_exporter": "python",
   "pygments_lexer": "ipython3",
   "version": "3.9.16"
  }
 },
 "nbformat": 4,
 "nbformat_minor": 0
}
