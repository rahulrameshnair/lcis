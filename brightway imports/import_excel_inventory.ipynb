{
 "cells": [
  {
   "cell_type": "code",
   "execution_count": 1,
   "metadata": {
    "collapsed": false,
    "jupyter": {
     "outputs_hidden": false
    },
    "ExecuteTime": {
     "end_time": "2023-05-15T12:30:17.164998200Z",
     "start_time": "2023-05-15T12:30:15.590915600Z"
    }
   },
   "outputs": [],
   "source": [
    "import brightway2 as bw\n",
    "import functools"
   ]
  },
  {
   "cell_type": "markdown",
   "metadata": {},
   "source": [
    "## Logic of import\n",
    "- a database is imported from an excel file using the bw2 default functions.\n",
    "- the activities in this database are matched with the existing databases (user provided) in the project.\n",
    "- if there are any unlinked activities (From ecoinvent), they are stored as a separate **list of dict**.\n",
    "-   then the whole table of linked and unlinked activities are stored as an excel sheet.\n",
    "- The unlinked activities are dropped, the database is written\n",
    "- The unlinked activities are matched against the ecoinvent database and the unique (based on the reference product, name and location) ecoinvent counterparts are identified.\n",
    "-   These unique activities are written to the newly imported database and formulas, if any, are inherited from the **list of dict**. Thus all the originally unlinked activities are copied back into the new database\n",
    "- Now, activity browser can be opened and these originally unlinked activities can be reassigned by dragging and dropping."
   ]
  },
  {
   "cell_type": "code",
   "execution_count": 2,
   "metadata": {
    "collapsed": false,
    "jupyter": {
     "outputs_hidden": false
    },
    "ExecuteTime": {
     "end_time": "2023-05-15T12:30:19.087588Z",
     "start_time": "2023-05-15T12:30:19.065573200Z"
    }
   },
   "outputs": [],
   "source": [
    "from bw2io import *\n",
    "from bw2io.strategies import *"
   ]
  },
  {
   "cell_type": "code",
   "execution_count": 3,
   "metadata": {
    "collapsed": false,
    "jupyter": {
     "outputs_hidden": false
    },
    "ExecuteTime": {
     "end_time": "2023-05-15T12:30:20.056391600Z",
     "start_time": "2023-05-15T12:30:19.972346900Z"
    }
   },
   "outputs": [],
   "source": [
    "bw.projects.set_current('alicia')"
   ]
  },
  {
   "cell_type": "code",
   "execution_count": 4,
   "outputs": [
    {
     "name": "stdout",
     "output_type": "stream",
     "text": [
      "D:\\Alicia\\Work\\Git\\brightway\\databases\\ATA-72_Engine_fan_prop.xlsx\n",
      "ATA-72_Engine_fan_prop.xlsx\n"
     ]
    }
   ],
   "source": [
    "import select_file_v2 as select\n",
    "database_path, database_name = select.file_selection()\n",
    "# for checking the paths\n",
    "print(database_path)\n",
    "print(database_name)"
   ],
   "metadata": {
    "collapsed": false,
    "ExecuteTime": {
     "end_time": "2023-05-15T12:30:26.639157800Z",
     "start_time": "2023-05-15T12:30:20.776571600Z"
    }
   }
  },
  {
   "cell_type": "code",
   "execution_count": 5,
   "metadata": {
    "collapsed": false,
    "jupyter": {
     "outputs_hidden": false
    },
    "ExecuteTime": {
     "end_time": "2023-05-15T12:30:33.351066400Z",
     "start_time": "2023-05-15T12:30:33.303431400Z"
    }
   },
   "outputs": [
    {
     "name": "stdout",
     "output_type": "stream",
     "text": [
      "Extracted 1 worksheets in 0.01 seconds\n"
     ]
    }
   ],
   "source": [
    "# Create an ExcelImporter object\n",
    "ei = ExcelImporter(database_path)"
   ]
  },
  {
   "cell_type": "code",
   "execution_count": 6,
   "metadata": {
    "collapsed": false,
    "jupyter": {
     "outputs_hidden": false
    },
    "ExecuteTime": {
     "end_time": "2023-05-15T12:30:47.071884Z",
     "start_time": "2023-05-15T12:30:35.221878500Z"
    }
   },
   "outputs": [
    {
     "name": "stdout",
     "output_type": "stream",
     "text": [
      "Applying strategy: csv_restore_tuples\n",
      "Applying strategy: csv_restore_booleans\n",
      "Applying strategy: csv_numerize\n",
      "Applying strategy: csv_drop_unknown\n",
      "Applying strategy: csv_add_missing_exchanges_section\n",
      "Applying strategy: normalize_units\n",
      "Applying strategy: normalize_biosphere_categories\n",
      "Applying strategy: normalize_biosphere_names\n",
      "Applying strategy: strip_biosphere_exc_locations\n",
      "Applying strategy: set_code_by_activity_hash\n",
      "Applying strategy: link_iterable_by_fields\n",
      "Applying strategy: assign_only_product_as_production\n",
      "Applying strategy: link_technosphere_by_activity_hash\n",
      "Applying strategy: drop_falsey_uncertainty_fields_but_keep_zeros\n",
      "Applying strategy: convert_uncertainty_types_to_integers\n",
      "Applying strategy: convert_activity_parameters_to_list\n",
      "Applied 16 strategies in 11.83 seconds\n",
      "7 datasets\n",
      "22 exchanges\n",
      "10 unlinked exchanges\n",
      "  Type technosphere: 6 unique unlinked exchanges\n"
     ]
    },
    {
     "data": {
      "text/plain": "(7, 22, 10)"
     },
     "execution_count": 6,
     "metadata": {},
     "output_type": "execute_result"
    }
   ],
   "source": [
    "# apply the statistics and check for data statistics\n",
    "ei.apply_strategies()\n",
    "ei.statistics()"
   ]
  },
  {
   "cell_type": "code",
   "execution_count": 7,
   "metadata": {
    "collapsed": false,
    "jupyter": {
     "outputs_hidden": false
    },
    "ExecuteTime": {
     "end_time": "2023-05-15T12:30:55.275917100Z",
     "start_time": "2023-05-15T12:30:48.506505700Z"
    }
   },
   "outputs": [
    {
     "name": "stdout",
     "output_type": "stream",
     "text": [
      "Applying strategy: link_iterable_by_fields\n",
      "Couldn't apply strategy link_iterable_by_fields:\n",
      "\tObject in source database can't be uniquely linked to target database.\n",
      "Problematic dataset is:\n",
      "{'a': '(missing)',\n",
      " 'e': '(missing)',\n",
      " 'filename': '(missing)',\n",
      " 'm': '(missing)',\n",
      " 'n': '(missing)'}\n",
      "Possible targets include (at least one not shown):\n",
      "[{'a': '(missing)',\n",
      "  'e': '(missing)',\n",
      "  'filename': '(missing)',\n",
      "  'm': '(missing)',\n",
      "  'n': '(missing)'},\n",
      " {'a': '(missing)',\n",
      "  'e': '(missing)',\n",
      "  'filename': '(missing)',\n",
      "  'm': '(missing)',\n",
      "  'n': '(missing)'},\n",
      " {'a': '(missing)',\n",
      "  'e': '(missing)',\n",
      "  'filename': '(missing)',\n",
      "  'm': '(missing)',\n",
      "  'n': '(missing)'},\n",
      " {'a': '(missing)',\n",
      "  'e': '(missing)',\n",
      "  'filename': '(missing)',\n",
      "  'm': '(missing)',\n",
      "  'n': '(missing)'},\n",
      " {'a': '(missing)',\n",
      "  'e': '(missing)',\n",
      "  'filename': '(missing)',\n",
      "  'm': '(missing)',\n",
      "  'n': '(missing)'},\n",
      " {'a': '(missing)',\n",
      "  'e': '(missing)',\n",
      "  'filename': '(missing)',\n",
      "  'm': '(missing)',\n",
      "  'n': '(missing)'}]\n",
      "Applying strategy: link_iterable_by_fields\n",
      "7 datasets\n",
      "22 exchanges\n",
      "0 unlinked exchanges\n",
      "  \n"
     ]
    },
    {
     "data": {
      "text/plain": "(7, 22, 0)"
     },
     "execution_count": 7,
     "metadata": {},
     "output_type": "execute_result"
    }
   ],
   "source": [
    "ei.match_database(fields=('name')) #database self matching\n",
    "\n",
    "import db_dependencies as DB\n",
    "for i in range (DB.db_array_length):\n",
    "    ei.match_database(db_name=DB.db_names[i], fields=('name', 'unit', 'location'))\n",
    "#ei.match_database(None, ignore_categories=True)\n",
    "ei.statistics()"
   ]
  },
  {
   "cell_type": "code",
   "execution_count": 11,
   "outputs": [
    {
     "name": "stdout",
     "output_type": "stream",
     "text": [
      "[{'code': 'a54d4bf5d142483190d6e3a496a210ad',\n",
      "  'database': 'ATA-72_Engine_fan_prop',\n",
      "  'exchanges': [{'amount': 1,\n",
      "                 'database': 'ATA-72_Engine_fan_prop',\n",
      "                 'input': ('ATA-72_Engine_fan_prop',\n",
      "                           'a54d4bf5d142483190d6e3a496a210ad'),\n",
      "                 'location': 'GLO',\n",
      "                 'name': 'ATA-72_Engine_fan_prop_Engine Systems',\n",
      "                 'output': ('ATA-72_Engine_fan_prop',\n",
      "                            'a54d4bf5d142483190d6e3a496a210ad'),\n",
      "                 'reference product': 'Engine Systems',\n",
      "                 'type': 'production',\n",
      "                 'unit': 'unit'},\n",
      "                {'amount': 274.53,\n",
      "                 'database': 'materials',\n",
      "                 'formula': 'engineSystems_mass',\n",
      "                 'input': ('materials', '31f1a80380444c41ad2b1b1cceb9d5d5'),\n",
      "                 'location': 'GLO',\n",
      "                 'name': 'Al 2024',\n",
      "                 'original_amount': 1,\n",
      "                 'output': ('ATA-72_Engine_fan_prop',\n",
      "                            'a54d4bf5d142483190d6e3a496a210ad'),\n",
      "                 'reference product': 'Al 2024',\n",
      "                 'type': 'technosphere',\n",
      "                 'unit': 'kilogram'}],\n",
      "  'location': 'GLO',\n",
      "  'name': 'ATA-72_Engine_fan_prop_Engine Systems',\n",
      "  'reference product': 'Engine Systems',\n",
      "  'type': 'process',\n",
      "  'unit': 'unit',\n",
      "  'worksheet name': 'ATA-72_Engine_fan_prop'},\n",
      " {'code': 'b054fa22e1844eae836175a27db53993',\n",
      "  'database': 'ATA-72_Engine_fan_prop',\n",
      "  'exchanges': [{'amount': 1,\n",
      "                 'database': 'ATA-72_Engine_fan_prop',\n",
      "                 'input': ('ATA-72_Engine_fan_prop',\n",
      "                           'b054fa22e1844eae836175a27db53993'),\n",
      "                 'location': 'GLO',\n",
      "                 'name': 'ATA-72_Engine_fan_prop_Engine TF',\n",
      "                 'output': ('ATA-72_Engine_fan_prop',\n",
      "                            'b054fa22e1844eae836175a27db53993'),\n",
      "                 'reference product': 'Engine TF',\n",
      "                 'type': 'production',\n",
      "                 'unit': 'unit'},\n",
      "                {'amount': 1,\n",
      "                 'database': 'ATA-72_Engine_fan_prop',\n",
      "                 'input': ('ATA-72_Engine_fan_prop',\n",
      "                           'a54d4bf5d142483190d6e3a496a210ad'),\n",
      "                 'location': 'GLO',\n",
      "                 'name': 'ATA-72_Engine_fan_prop_Engine Systems',\n",
      "                 'output': ('ATA-72_Engine_fan_prop',\n",
      "                            'b054fa22e1844eae836175a27db53993'),\n",
      "                 'reference product': 'Engine Systems',\n",
      "                 'type': 'technosphere',\n",
      "                 'unit': 'unit'},\n",
      "                {'amount': 1,\n",
      "                 'database': 'ATA-72_Engine_fan_prop',\n",
      "                 'input': ('ATA-72_Engine_fan_prop',\n",
      "                           '2141f178c5bb47d5bafe3b4214d23793'),\n",
      "                 'location': 'GLO',\n",
      "                 'name': 'ATA-72_Engine_fan_prop_Fan',\n",
      "                 'output': ('ATA-72_Engine_fan_prop',\n",
      "                            'b054fa22e1844eae836175a27db53993'),\n",
      "                 'reference product': 'Fan',\n",
      "                 'type': 'technosphere',\n",
      "                 'unit': 'unit'},\n",
      "                {'amount': 1,\n",
      "                 'database': 'ATA-72_Engine_fan_prop',\n",
      "                 'input': ('ATA-72_Engine_fan_prop',\n",
      "                           'ac2d592f154945e28837b20a378f5ae2'),\n",
      "                 'location': 'GLO',\n",
      "                 'name': 'ATA-72_Engine_fan_prop_Gas Turbine',\n",
      "                 'output': ('ATA-72_Engine_fan_prop',\n",
      "                            'b054fa22e1844eae836175a27db53993'),\n",
      "                 'reference product': 'Gas Turbine',\n",
      "                 'type': 'technosphere',\n",
      "                 'unit': 'unit'},\n",
      "                {'amount': 1,\n",
      "                 'database': 'ATA-72_Engine_fan_prop',\n",
      "                 'input': ('ATA-72_Engine_fan_prop',\n",
      "                           'db652d6aadfc48a78674b1e06a8f8c0b'),\n",
      "                 'location': 'GLO',\n",
      "                 'name': 'ATA-72_Engine_fan_prop_Gear Box',\n",
      "                 'output': ('ATA-72_Engine_fan_prop',\n",
      "                            'b054fa22e1844eae836175a27db53993'),\n",
      "                 'reference product': 'Gear Box',\n",
      "                 'type': 'technosphere',\n",
      "                 'unit': 'unit'}],\n",
      "  'location': 'GLO',\n",
      "  'name': 'ATA-72_Engine_fan_prop_Engine TF',\n",
      "  'reference product': 'Engine TF',\n",
      "  'type': 'process',\n",
      "  'unit': 'unit',\n",
      "  'worksheet name': 'ATA-72_Engine_fan_prop'},\n",
      " {'code': '2141f178c5bb47d5bafe3b4214d23793',\n",
      "  'database': 'ATA-72_Engine_fan_prop',\n",
      "  'exchanges': [{'amount': 1,\n",
      "                 'database': 'ATA-72_Engine_fan_prop',\n",
      "                 'input': ('ATA-72_Engine_fan_prop',\n",
      "                           '2141f178c5bb47d5bafe3b4214d23793'),\n",
      "                 'location': 'GLO',\n",
      "                 'name': 'ATA-72_Engine_fan_prop_Fan',\n",
      "                 'output': ('ATA-72_Engine_fan_prop',\n",
      "                            '2141f178c5bb47d5bafe3b4214d23793'),\n",
      "                 'reference product': 'Fan',\n",
      "                 'type': 'production',\n",
      "                 'unit': 'unit'},\n",
      "                {'amount': 357.54,\n",
      "                 'database': 'materials',\n",
      "                 'formula': 'fan_mass*0.5',\n",
      "                 'input': ('materials', '31f1a80380444c41ad2b1b1cceb9d5d5'),\n",
      "                 'location': 'GLO',\n",
      "                 'name': 'Al 2024',\n",
      "                 'original_amount': 0.5,\n",
      "                 'output': ('ATA-72_Engine_fan_prop',\n",
      "                            '2141f178c5bb47d5bafe3b4214d23793'),\n",
      "                 'reference product': 'Al 2024',\n",
      "                 'type': 'technosphere',\n",
      "                 'unit': 'kilogram'},\n",
      "                {'amount': 357.54,\n",
      "                 'database': 'materials',\n",
      "                 'formula': 'fan_mass*0.5',\n",
      "                 'input': ('materials', '0508a9434cd24602a9e74cdfd0f70e34'),\n",
      "                 'location': 'GLO',\n",
      "                 'name': 'Ti64',\n",
      "                 'original_amount': 0.5,\n",
      "                 'output': ('ATA-72_Engine_fan_prop',\n",
      "                            '2141f178c5bb47d5bafe3b4214d23793'),\n",
      "                 'reference product': 'Ti64',\n",
      "                 'type': 'technosphere',\n",
      "                 'unit': 'kilogram'}],\n",
      "  'location': 'GLO',\n",
      "  'name': 'ATA-72_Engine_fan_prop_Fan',\n",
      "  'reference product': 'Fan',\n",
      "  'type': 'process',\n",
      "  'unit': 'unit',\n",
      "  'worksheet name': 'ATA-72_Engine_fan_prop'},\n",
      " {'code': 'ac2d592f154945e28837b20a378f5ae2',\n",
      "  'database': 'ATA-72_Engine_fan_prop',\n",
      "  'exchanges': [{'amount': 1,\n",
      "                 'database': 'ATA-72_Engine_fan_prop',\n",
      "                 'input': ('ATA-72_Engine_fan_prop',\n",
      "                           'ac2d592f154945e28837b20a378f5ae2'),\n",
      "                 'location': 'GLO',\n",
      "                 'name': 'ATA-72_Engine_fan_prop_Gas Turbine',\n",
      "                 'output': ('ATA-72_Engine_fan_prop',\n",
      "                            'ac2d592f154945e28837b20a378f5ae2'),\n",
      "                 'reference product': 'Gas Turbine',\n",
      "                 'type': 'production',\n",
      "                 'unit': 'unit'},\n",
      "                {'amount': 425.97,\n",
      "                 'database': 'materials',\n",
      "                 'formula': 'gasTurbine_mass*0.1',\n",
      "                 'input': ('materials', '31f1a80380444c41ad2b1b1cceb9d5d5'),\n",
      "                 'location': 'GLO',\n",
      "                 'name': 'Al 2024',\n",
      "                 'original_amount': 0.1,\n",
      "                 'output': ('ATA-72_Engine_fan_prop',\n",
      "                            'ac2d592f154945e28837b20a378f5ae2'),\n",
      "                 'reference product': 'Al 2024',\n",
      "                 'type': 'technosphere',\n",
      "                 'unit': 'kilogram'},\n",
      "                {'amount': 212.985,\n",
      "                 'database': 'materials',\n",
      "                 'formula': 'gasTurbine_mass*0.05',\n",
      "                 'input': ('materials', 'a835e7d64a65472db62efc6458d76afe'),\n",
      "                 'location': 'GLO',\n",
      "                 'name': 'CFRP',\n",
      "                 'original_amount': 0.05,\n",
      "                 'output': ('ATA-72_Engine_fan_prop',\n",
      "                            'ac2d592f154945e28837b20a378f5ae2'),\n",
      "                 'reference product': 'CFRP',\n",
      "                 'type': 'technosphere',\n",
      "                 'unit': 'kilogram'},\n",
      "                {'amount': 425.97,\n",
      "                 'database': 'materials',\n",
      "                 'formula': 'gasTurbine_mass*0.1',\n",
      "                 'input': ('materials', 'd7163e2b875a420995749f0eed63de0d'),\n",
      "                 'location': 'GLO',\n",
      "                 'name': 'High-Strength Steel',\n",
      "                 'original_amount': 0.1,\n",
      "                 'output': ('ATA-72_Engine_fan_prop',\n",
      "                            'ac2d592f154945e28837b20a378f5ae2'),\n",
      "                 'reference product': 'High-Strength Steel',\n",
      "                 'type': 'technosphere',\n",
      "                 'unit': 'kilogram'},\n",
      "                {'amount': 2129.85,\n",
      "                 'database': 'materials',\n",
      "                 'formula': 'gasTurbine_mass*0.5',\n",
      "                 'input': ('materials', 'edad4946ef5a4ed78c3c9206735edc5a'),\n",
      "                 'location': 'GLO',\n",
      "                 'name': 'Ni-based Superalloy',\n",
      "                 'original_amount': 0.5,\n",
      "                 'output': ('ATA-72_Engine_fan_prop',\n",
      "                            'ac2d592f154945e28837b20a378f5ae2'),\n",
      "                 'reference product': 'Ni-based Superalloy',\n",
      "                 'type': 'technosphere',\n",
      "                 'unit': 'kilogram'},\n",
      "                {'amount': 1064.925,\n",
      "                 'database': 'materials',\n",
      "                 'formula': 'gasTurbine_mass*0.25',\n",
      "                 'input': ('materials', '0508a9434cd24602a9e74cdfd0f70e34'),\n",
      "                 'location': 'GLO',\n",
      "                 'name': 'Ti64',\n",
      "                 'original_amount': 0.25,\n",
      "                 'output': ('ATA-72_Engine_fan_prop',\n",
      "                            'ac2d592f154945e28837b20a378f5ae2'),\n",
      "                 'reference product': 'Ti64',\n",
      "                 'type': 'technosphere',\n",
      "                 'unit': 'kilogram'}],\n",
      "  'location': 'GLO',\n",
      "  'name': 'ATA-72_Engine_fan_prop_Gas Turbine',\n",
      "  'reference product': 'Gas Turbine',\n",
      "  'type': 'process',\n",
      "  'unit': 'unit',\n",
      "  'worksheet name': 'ATA-72_Engine_fan_prop'},\n",
      " {'code': 'db652d6aadfc48a78674b1e06a8f8c0b',\n",
      "  'database': 'ATA-72_Engine_fan_prop',\n",
      "  'exchanges': [{'amount': 1,\n",
      "                 'database': 'ATA-72_Engine_fan_prop',\n",
      "                 'input': ('ATA-72_Engine_fan_prop',\n",
      "                           'db652d6aadfc48a78674b1e06a8f8c0b'),\n",
      "                 'location': 'GLO',\n",
      "                 'name': 'ATA-72_Engine_fan_prop_Gear Box',\n",
      "                 'output': ('ATA-72_Engine_fan_prop',\n",
      "                            'db652d6aadfc48a78674b1e06a8f8c0b'),\n",
      "                 'reference product': 'Gear Box',\n",
      "                 'type': 'production',\n",
      "                 'unit': 'unit'},\n",
      "                {'amount': 373.71,\n",
      "                 'database': 'materials',\n",
      "                 'formula': 'gearbox_mass',\n",
      "                 'input': ('materials', 'd7163e2b875a420995749f0eed63de0d'),\n",
      "                 'location': 'GLO',\n",
      "                 'name': 'High-Strength Steel',\n",
      "                 'original_amount': 1,\n",
      "                 'output': ('ATA-72_Engine_fan_prop',\n",
      "                            'db652d6aadfc48a78674b1e06a8f8c0b'),\n",
      "                 'reference product': 'High-Strength Steel',\n",
      "                 'type': 'technosphere',\n",
      "                 'unit': 'kilogram'}],\n",
      "  'location': 'GLO',\n",
      "  'name': 'ATA-72_Engine_fan_prop_Gear Box',\n",
      "  'reference product': 'Gear Box',\n",
      "  'type': 'process',\n",
      "  'unit': 'unit',\n",
      "  'worksheet name': 'ATA-72_Engine_fan_prop'},\n",
      " {'code': 'a813f89bd7ac4c04a5b1defbb9c50636',\n",
      "  'database': 'ATA-72_Engine_fan_prop',\n",
      "  'exchanges': [{'amount': 1,\n",
      "                 'database': 'ATA-72_Engine_fan_prop',\n",
      "                 'input': ('ATA-72_Engine_fan_prop',\n",
      "                           'a813f89bd7ac4c04a5b1defbb9c50636'),\n",
      "                 'location': 'GLO',\n",
      "                 'name': 'ATA-72_Engine_fan_prop_Propeller',\n",
      "                 'output': ('ATA-72_Engine_fan_prop',\n",
      "                            'a813f89bd7ac4c04a5b1defbb9c50636'),\n",
      "                 'reference product': 'Propeller',\n",
      "                 'type': 'production',\n",
      "                 'unit': 'unit'},\n",
      "                {'amount': 0,\n",
      "                 'database': 'materials',\n",
      "                 'formula': 'propeller_mass',\n",
      "                 'input': ('materials', 'fab05c17548a44a0a7852635c994794b'),\n",
      "                 'location': 'GLO',\n",
      "                 'name': 'AFRP',\n",
      "                 'original_amount': 1,\n",
      "                 'output': ('ATA-72_Engine_fan_prop',\n",
      "                            'a813f89bd7ac4c04a5b1defbb9c50636'),\n",
      "                 'reference product': 'AFRP',\n",
      "                 'type': 'technosphere',\n",
      "                 'unit': 'kilogram'}],\n",
      "  'location': 'GLO',\n",
      "  'name': 'ATA-72_Engine_fan_prop_Propeller',\n",
      "  'reference product': 'Propeller',\n",
      "  'type': 'process',\n",
      "  'unit': 'unit',\n",
      "  'worksheet name': 'ATA-72_Engine_fan_prop'},\n",
      " {'code': 'e77dc1be783f4a8ea18371d8765913d9',\n",
      "  'database': 'ATA-72_Engine_fan_prop',\n",
      "  'exchanges': [{'amount': 1,\n",
      "                 'database': 'ATA-72_Engine_fan_prop',\n",
      "                 'input': ('ATA-72_Engine_fan_prop',\n",
      "                           'e77dc1be783f4a8ea18371d8765913d9'),\n",
      "                 'location': 'GLO',\n",
      "                 'name': 'D250-TF-2040',\n",
      "                 'output': ('ATA-72_Engine_fan_prop',\n",
      "                            'e77dc1be783f4a8ea18371d8765913d9'),\n",
      "                 'reference product': 'D250-TF-2040',\n",
      "                 'type': 'production',\n",
      "                 'unit': 'unit'},\n",
      "                {'amount': 1,\n",
      "                 'database': 'ATA-72_Engine_fan_prop',\n",
      "                 'input': ('ATA-72_Engine_fan_prop',\n",
      "                           'b054fa22e1844eae836175a27db53993'),\n",
      "                 'location': 'GLO',\n",
      "                 'name': 'ATA-72_Engine_fan_prop_Engine TF',\n",
      "                 'output': ('ATA-72_Engine_fan_prop',\n",
      "                            'e77dc1be783f4a8ea18371d8765913d9'),\n",
      "                 'reference product': 'Engine TF',\n",
      "                 'type': 'technosphere',\n",
      "                 'unit': 'unit'}],\n",
      "  'location': 'GLO',\n",
      "  'name': 'D250-TF-2040',\n",
      "  'reference product': 'D250-TF-2040',\n",
      "  'type': 'process',\n",
      "  'unit': 'unit',\n",
      "  'worksheet name': 'ATA-72_Engine_fan_prop'}]\n"
     ]
    }
   ],
   "source": [
    "# To \"neatly\" print the entire imported data within ei. ONLY use when requried\n",
    "import pprint\n",
    "pprint.pprint(ei.data)\n"
   ],
   "metadata": {
    "collapsed": false,
    "ExecuteTime": {
     "end_time": "2023-05-15T12:32:08.387398400Z",
     "start_time": "2023-05-15T12:32:08.368378600Z"
    }
   }
  },
  {
   "cell_type": "code",
   "execution_count": null,
   "metadata": {
    "collapsed": false,
    "jupyter": {
     "outputs_hidden": false
    }
   },
   "outputs": [],
   "source": [
    "# if there are any unlinked exchanges, the databases of these exchanges, and the unlinked exchanges are stored in their own arrays\n",
    "unlinked_databases = []\n",
    "unlinked_exchanges = []\n",
    "for exc in ei.unlinked:\n",
    "    if exc[\"database\"] not in unlinked_databases:\n",
    "        unlinked_databases.append(exc[\"database\"])\n",
    "    unlinked_exchanges.append(exc)\n",
    "# the unlinked exchanges are stored as a list, where each element is a dict\n",
    "print (\"The unlinked database/s:\\n\",unlinked_databases)\n",
    "print(\"The unlinked exchanges are:\\n\",unlinked_exchanges)"
   ]
  },
  {
   "cell_type": "code",
   "execution_count": null,
   "outputs": [],
   "source": [
    "print(unlinked_exchanges[1][\"name\"])"
   ],
   "metadata": {
    "collapsed": false
   }
  },
  {
   "cell_type": "markdown",
   "source": [],
   "metadata": {
    "collapsed": false
   }
  },
  {
   "cell_type": "code",
   "execution_count": null,
   "metadata": {
    "collapsed": false,
    "jupyter": {
     "outputs_hidden": false
    }
   },
   "outputs": [],
   "source": [
    "#write an excel file with all the matched activities so far.copy the excel file that was written in the previous line to your desired location for further reference.\n",
    "ei.write_excel(only_unlinked=False)\n",
    "ei.add_unlinked_activities()\n",
    "ei.statistics()\n",
    "\n",
    "# ei.drop_unlinked(i_am_reckless=True)"
   ]
  },
  {
   "cell_type": "code",
   "execution_count": null,
   "outputs": [],
   "source": [
    "#uncomment the line below to enable the Nuclear option\n",
    "ei.drop_unlinked(i_am_reckless=True)"
   ],
   "metadata": {
    "collapsed": false
   }
  },
  {
   "cell_type": "code",
   "execution_count": 8,
   "outputs": [
    {
     "name": "stdout",
     "output_type": "stream",
     "text": [
      "7 datasets\n",
      "22 exchanges\n",
      "0 unlinked exchanges\n",
      "  \n"
     ]
    },
    {
     "data": {
      "text/plain": "(7, 22, 0)"
     },
     "execution_count": 8,
     "metadata": {},
     "output_type": "execute_result"
    }
   ],
   "source": [
    "ei.statistics()"
   ],
   "metadata": {
    "collapsed": false,
    "ExecuteTime": {
     "end_time": "2023-05-15T12:31:07.274822300Z",
     "start_time": "2023-05-15T12:31:07.253028900Z"
    }
   }
  },
  {
   "cell_type": "code",
   "execution_count": 9,
   "metadata": {
    "collapsed": false,
    "jupyter": {
     "outputs_hidden": false
    },
    "ExecuteTime": {
     "end_time": "2023-05-15T12:31:10.739664Z",
     "start_time": "2023-05-15T12:31:10.427070600Z"
    }
   },
   "outputs": [
    {
     "name": "stderr",
     "output_type": "stream",
     "text": [
      "Writing activities to SQLite3 database:\n",
      "0% [#######] 100% | ETA: 00:00:00\n",
      "Total time elapsed: 00:00:00\n"
     ]
    },
    {
     "name": "stdout",
     "output_type": "stream",
     "text": [
      "Title: Writing activities to SQLite3 database:\n",
      "  Started: 05/15/2023 14:31:10\n",
      "  Finished: 05/15/2023 14:31:10\n",
      "  Total time elapsed: 00:00:00\n",
      "  CPU %: 0.00\n",
      "  Memory %: 1.44\n",
      "Created database: ATA-72_Engine_fan_prop\n"
     ]
    }
   ],
   "source": [
    "# will write to the database only if there are no unlinked exchanges\n",
    "#writes the database into the bw2 as the same name of the excel sheet\n",
    "ei.write_database()"
   ]
  },
  {
   "cell_type": "markdown",
   "source": [
    "**if unlinked (with ecoinvent) activities have been dropped**, then the code block below is used for searching and finding similar activities from the ecoinvent database.\n",
    "\n",
    "**Note**: There is potentially one another method to do this. That is to search the unlinked_exchanges dict, and then add each activity by itself to the new database. However, this will result in loss of connection and attribution with ecoinvent database. May be, this method can be attempted in future."
   ],
   "metadata": {
    "collapsed": false
   }
  },
  {
   "cell_type": "code",
   "execution_count": null,
   "outputs": [],
   "source": [
    "print(unlinked_exchanges)\n",
    "#print(unlinked_exchanges[0][\"formula\"])"
   ],
   "metadata": {
    "collapsed": false
   }
  },
  {
   "cell_type": "code",
   "execution_count": null,
   "outputs": [],
   "source": [
    "import bw2data as bd\n",
    "\n",
    "#select the source ecoinvent database and the target database with missing activities\n",
    "ecoinvent_db = bd.Database('cutoff391')\n",
    "target_db = bd.Database('aircraftlca2')\n",
    "#iterate through each unlinked exchanges stored in the unlinked_exchanges list\n",
    "for exchange in unlinked_exchanges:\n",
    "    #print (exchange[\"name\"])\n",
    "\n",
    "    #matches activity in unlinked_exchanges to those in th ecoinvent_db by name, location and reference product\n",
    "    matches_activity = [act for act in ecoinvent_db if act[\"name\"] == exchange[\"name\"] and act[\"location\"] == exchange[\"location\"] and act[\"reference product\"] == exchange[\"reference product\"]]\n",
    "    #matches_activity = bd.Database(database_name).search(exchange[\"name\"])\n",
    "    for match in matches_activity:\n",
    "        #saves the activity code from the matched activity. This activity code is later used for copying the activity from ecoinvent db to target database\n",
    "        activity_code = match[\"code\"]\n",
    "    #source_activity is the activity to be copies from ecoinvent\n",
    "    source_activity = ecoinvent_db.get(activity_code)\n",
    "    print(\"The activity from ecoinvent is \\n\", source_activity)\n",
    "\n",
    "    #copies source activity to a variable called target_activity\n",
    "    target_activity = source_activity.copy()\n",
    "    target_activity[\"database\"] = target_db.name\n",
    "\n",
    "    # if there are any associatted formulas in the unlinked databases it will copied over to the newly added activities in the database. This copy may not work if the parameters are not available.\n",
    "    if \"formula\" in exchange.keys():\n",
    "        print(\"yes, there is formula\")\n",
    "        target_activity[\"formula\"]=exchange[\"formula\"]\n",
    "\n",
    "    target_activity.save()\n",
    "    target_db.process()"
   ],
   "metadata": {
    "collapsed": false
   }
  },
  {
   "cell_type": "code",
   "execution_count": null,
   "outputs": [],
   "source": [
    "quit()"
   ],
   "metadata": {
    "collapsed": false
   }
  }
 ],
 "metadata": {
  "kernelspec": {
   "display_name": "Python 3 (ipykernel)",
   "language": "python",
   "name": "python3"
  },
  "language_info": {
   "codemirror_mode": {
    "name": "ipython",
    "version": 3
   },
   "file_extension": ".py",
   "mimetype": "text/x-python",
   "name": "python",
   "nbconvert_exporter": "python",
   "pygments_lexer": "ipython3",
   "version": "3.9.16"
  }
 },
 "nbformat": 4,
 "nbformat_minor": 4
}
