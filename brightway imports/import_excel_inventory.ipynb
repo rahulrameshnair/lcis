{
 "cells": [
  {
   "cell_type": "code",
   "execution_count": 1,
   "metadata": {
    "collapsed": false,
    "jupyter": {
     "outputs_hidden": false
    },
    "ExecuteTime": {
     "end_time": "2023-05-04T13:21:21.046109800Z",
     "start_time": "2023-05-04T13:21:19.443334700Z"
    }
   },
   "outputs": [],
   "source": [
    "import brightway2 as bw\n",
    "import functools"
   ]
  },
  {
   "cell_type": "markdown",
   "metadata": {},
   "source": [
    "## changelog\n",
    "- previous version is alicia_import_20230317\n",
    "- makes use of select_file.py to enable selection of .xlsx database through a GUI.\n",
    "- makes use of db_dependencies.py to take an input of the names of the databases that are dependencies of the imported database.\n",
    "Then the exchanges in the imported databases are linked with them, if they are already present in the brightway2 project."
   ]
  },
  {
   "cell_type": "code",
   "execution_count": 2,
   "metadata": {
    "collapsed": false,
    "jupyter": {
     "outputs_hidden": false
    },
    "ExecuteTime": {
     "end_time": "2023-05-04T13:21:24.162330300Z",
     "start_time": "2023-05-04T13:21:24.149316600Z"
    }
   },
   "outputs": [],
   "source": [
    "from bw2io import *\n",
    "from bw2io.strategies import *"
   ]
  },
  {
   "cell_type": "code",
   "execution_count": 3,
   "metadata": {
    "collapsed": false,
    "jupyter": {
     "outputs_hidden": false
    },
    "ExecuteTime": {
     "end_time": "2023-05-04T13:21:27.038249600Z",
     "start_time": "2023-05-04T13:21:26.965217900Z"
    }
   },
   "outputs": [],
   "source": [
    "bw.projects.set_current('alicia')"
   ]
  },
  {
   "cell_type": "code",
   "execution_count": 4,
   "outputs": [
    {
     "name": "stdout",
     "output_type": "stream",
     "text": [
      "D:\\Alicia\\Work\\Pycharm_projects\\importing\\databases\\aircraftlca2.xlsx\n",
      "aircraftlca2.xlsx\n"
     ]
    }
   ],
   "source": [
    "import importing.select_file_v2 as select\n",
    "database_path, database_name = select.file_selection()\n",
    "# for checking the paths\n",
    "print(database_path)\n",
    "print(database_name)"
   ],
   "metadata": {
    "collapsed": false,
    "ExecuteTime": {
     "end_time": "2023-05-04T13:21:39.669699500Z",
     "start_time": "2023-05-04T13:21:32.128032100Z"
    }
   }
  },
  {
   "cell_type": "code",
   "execution_count": 5,
   "metadata": {
    "collapsed": false,
    "jupyter": {
     "outputs_hidden": false
    },
    "ExecuteTime": {
     "end_time": "2023-05-04T13:21:42.765225500Z",
     "start_time": "2023-05-04T13:21:42.708204600Z"
    }
   },
   "outputs": [
    {
     "name": "stdout",
     "output_type": "stream",
     "text": [
      "Extracted 1 worksheets in 0.01 seconds\n"
     ]
    }
   ],
   "source": [
    "# Create an ExcelImporter object\n",
    "ei = ExcelImporter(database_path)"
   ]
  },
  {
   "cell_type": "code",
   "execution_count": 6,
   "metadata": {
    "collapsed": false,
    "jupyter": {
     "outputs_hidden": false
    },
    "ExecuteTime": {
     "end_time": "2023-05-04T13:21:58.865036700Z",
     "start_time": "2023-05-04T13:21:47.105377Z"
    }
   },
   "outputs": [
    {
     "name": "stdout",
     "output_type": "stream",
     "text": [
      "Applying strategy: csv_restore_tuples\n",
      "Applying strategy: csv_restore_booleans\n",
      "Applying strategy: csv_numerize\n",
      "Applying strategy: csv_drop_unknown\n",
      "Applying strategy: csv_add_missing_exchanges_section\n",
      "Applying strategy: normalize_units\n",
      "Applying strategy: normalize_biosphere_categories\n",
      "Applying strategy: normalize_biosphere_names\n",
      "Applying strategy: strip_biosphere_exc_locations\n",
      "Applying strategy: set_code_by_activity_hash\n",
      "Applying strategy: link_iterable_by_fields\n",
      "Applying strategy: assign_only_product_as_production\n",
      "Applying strategy: link_technosphere_by_activity_hash\n",
      "Applying strategy: drop_falsey_uncertainty_fields_but_keep_zeros\n",
      "Applying strategy: convert_uncertainty_types_to_integers\n",
      "Applying strategy: convert_activity_parameters_to_list\n",
      "Applied 16 strategies in 11.75 seconds\n",
      "2 datasets\n",
      "13 exchanges\n",
      "9 unlinked exchanges\n",
      "  Type technosphere: 9 unique unlinked exchanges\n"
     ]
    },
    {
     "data": {
      "text/plain": "(2, 13, 9)"
     },
     "execution_count": 6,
     "metadata": {},
     "output_type": "execute_result"
    }
   ],
   "source": [
    "# apply the statistics and check for data statistics\n",
    "ei.apply_strategies()\n",
    "ei.statistics()"
   ]
  },
  {
   "cell_type": "code",
   "execution_count": 7,
   "metadata": {
    "collapsed": false,
    "jupyter": {
     "outputs_hidden": false
    },
    "ExecuteTime": {
     "end_time": "2023-05-04T13:22:58.372577500Z",
     "start_time": "2023-05-04T13:22:06.455547500Z"
    }
   },
   "outputs": [
    {
     "name": "stdout",
     "output_type": "stream",
     "text": [
      "Applying strategy: link_iterable_by_fields\n",
      "Couldn't apply strategy link_iterable_by_fields:\n",
      "\tObject in source database can't be uniquely linked to target database.\n",
      "Problematic dataset is:\n",
      "{'a': '(missing)',\n",
      " 'e': '(missing)',\n",
      " 'filename': '(missing)',\n",
      " 'm': '(missing)',\n",
      " 'n': '(missing)'}\n",
      "Possible targets include (at least one not shown):\n",
      "[{'a': '(missing)',\n",
      "  'e': '(missing)',\n",
      "  'filename': '(missing)',\n",
      "  'm': '(missing)',\n",
      "  'n': '(missing)'}]\n",
      "Applying strategy: link_iterable_by_fields\n",
      "Couldn't apply strategy link_iterable_by_fields:\n",
      "\tObject in source database can't be uniquely linked to target database.\n",
      "Problematic dataset is:\n",
      "{'filename': '(missing)',\n",
      " 'location': 'RoW',\n",
      " 'name': 'treatment of metal scrap, mixed, for recycling, unsorted, sorting',\n",
      " 'unit': 'kilogram'}\n",
      "Possible targets include (at least one not shown):\n",
      "[{'filename': '5c948344-e140-5d1b-91ee-65c515f1d571_858164b0-44f1-4118-b6cb-47054faa21ef.spold',\n",
      "  'location': 'RoW',\n",
      "  'name': 'treatment of metal scrap, mixed, for recycling, unsorted, sorting',\n",
      "  'unit': 'kilogram'},\n",
      " {'filename': '5c948344-e140-5d1b-91ee-65c515f1d571_4f312355-ac65-4635-8fb2-006dba64ce60.spold',\n",
      "  'location': 'RoW',\n",
      "  'name': 'treatment of metal scrap, mixed, for recycling, unsorted, sorting',\n",
      "  'unit': 'kilogram'}]\n",
      "2 datasets\n",
      "13 exchanges\n",
      "4 unlinked exchanges\n",
      "  Type technosphere: 4 unique unlinked exchanges\n"
     ]
    },
    {
     "data": {
      "text/plain": "(2, 13, 4)"
     },
     "execution_count": 7,
     "metadata": {},
     "output_type": "execute_result"
    }
   ],
   "source": [
    "ei.match_database(fields=('name')) #database self matching\n",
    "\n",
    "import db_dependencies as DB\n",
    "for i in range (DB.db_array_length):\n",
    "    ei.match_database(db_name=DB.db_names[i], fields=('name', 'unit', 'location'))\n",
    "#ei.match_database(None, ignore_categories=True)\n",
    "ei.statistics()"
   ]
  },
  {
   "cell_type": "code",
   "execution_count": null,
   "outputs": [],
   "source": [
    "# To \"neatly\" print the entire imported data within ei. ONLY use when requried\n",
    "import pprint\n",
    "pprint.pprint(ei.data())"
   ],
   "metadata": {
    "collapsed": false
   }
  },
  {
   "cell_type": "code",
   "execution_count": 8,
   "metadata": {
    "collapsed": false,
    "jupyter": {
     "outputs_hidden": false
    },
    "ExecuteTime": {
     "end_time": "2023-05-04T13:23:06.144780200Z",
     "start_time": "2023-05-04T13:23:06.128783800Z"
    }
   },
   "outputs": [
    {
     "name": "stdout",
     "output_type": "stream",
     "text": [
      "The unlinked database/s:\n",
      " ['cutoff391']\n",
      "The unlinked exchanges are:\n",
      " [{'name': 'treatment of metal scrap, mixed, for recycling, unsorted, sorting', 'amount': 0, 'database': 'cutoff391', 'location': 'RoW', 'unit': 'kilogram', 'type': 'technosphere', 'formula': '6407.56 * Al_select_for_fuselage', 'original_amount': 1, 'reference product': 'aluminium scrap, post-consumer, prepared for melting'}, {'name': 'electricity, high voltage, European attribute mix', 'amount': 8.33, 'database': 'cutoff391', 'location': 'RER', 'unit': 'kilowatt hour', 'type': 'technosphere', 'comment': 'energy requied for pyrolysis is 30 MJ/kg of CFRP', 'reference product': 'electricity, high voltage'}, {'name': 'market for transport, freight, lorry >32 metric ton, EURO6', 'amount': 2364.415, 'database': 'cutoff391', 'location': 'RER', 'unit': 'ton kilometer', 'type': 'technosphere', 'formula': 'vol_fuselage * CFRP_select_for_fuselage * CFRP_density/1000000*500', 'comment': 'assuming a 500 km transport for each ton', 'original_amount': 1, 'reference product': 'transport, freight, lorry >32 metric ton, EURO6'}, {'name': 'treatment of waste plastic, mixture, municipal incineration', 'amount': 1607.8022, 'database': 'cutoff391', 'location': 'RoW', 'unit': 'kilogram', 'type': 'technosphere', 'formula': '(vol_fuselage*CFRP_density*CFRP_select_for_fuselage)*(1-CFRP_fibre_wtpercent)/1000', 'original_amount': 1, 'reference product': 'waste plastic, mixture'}]\n"
     ]
    }
   ],
   "source": [
    "# if there are any unlinked exchanges, the databases of these exchanges, and the unlinked exchanges are stored in their own arrays\n",
    "unlinked_databases = []\n",
    "unlinked_exchanges = []\n",
    "for exc in ei.unlinked:\n",
    "    if exc[\"database\"] not in unlinked_databases:\n",
    "        unlinked_databases.append(exc[\"database\"])\n",
    "    unlinked_exchanges.append(exc)\n",
    "# the unlinked exchanges are stored as a list, where each element is a dict\n",
    "print (\"The unlinked database/s:\\n\",unlinked_databases)\n",
    "print(\"The unlinked exchanges are:\\n\",unlinked_exchanges)"
   ]
  },
  {
   "cell_type": "markdown",
   "source": [
    "If there are unlinked technosphere flows (from ecoinvent), then there are ##two possible methods## to resolve this:\n",
    "1. first store the matched database to a separate excel file. Then, perform a self link, and write the database. Afterwards, these exchanges can be manually verified through ActivityBrowser and reconnected with ecoinvent.\n",
    "2. for these specific unlinked exchanges, change the name of the database to \"self\". That is, the database name is self referenced. This is faster. However, this method results in the loss of the linking with ecoinvent.\n",
    "*note*: only enable the \"nuclear\" option, if nothing else is working. If so, please compare the \"matched database\" with the database in activity browser to see which all have been dropped. Add them again."
   ],
   "metadata": {
    "collapsed": false
   }
  },
  {
   "cell_type": "code",
   "execution_count": 11,
   "metadata": {
    "collapsed": false,
    "jupyter": {
     "outputs_hidden": false
    },
    "ExecuteTime": {
     "end_time": "2023-05-04T13:25:30.979008200Z",
     "start_time": "2023-05-04T13:25:30.920932800Z"
    }
   },
   "outputs": [
    {
     "name": "stdout",
     "output_type": "stream",
     "text": [
      "Wrote matching file to:\n",
      "C:\\Users\\nair_ra\\AppData\\Local\\pylca\\Brightway3\\alicia.e94ef563867e9c9df3fcc999bdb045f5\\output\\db-matching-aircraftlca2.xlsx\n"
     ]
    },
    {
     "ename": "NameError",
     "evalue": "name 'aircraftlca2' is not defined",
     "output_type": "error",
     "traceback": [
      "\u001B[1;31m---------------------------------------------------------------------------\u001B[0m",
      "\u001B[1;31mNameError\u001B[0m                                 Traceback (most recent call last)",
      "Cell \u001B[1;32mIn[11], line 3\u001B[0m\n\u001B[0;32m      1\u001B[0m \u001B[38;5;66;03m#write an excel file with all the matched activities so far.copy the excel file that was written in the previous line to your desired location for further reference.\u001B[39;00m\n\u001B[0;32m      2\u001B[0m ei\u001B[38;5;241m.\u001B[39mwrite_excel(only_unlinked\u001B[38;5;241m=\u001B[39m\u001B[38;5;28;01mFalse\u001B[39;00m)\n\u001B[1;32m----> 3\u001B[0m ei\u001B[38;5;241m.\u001B[39madd_unlinked_activities(\u001B[43maircraftlca2\u001B[49m)\n\u001B[0;32m      4\u001B[0m ei\u001B[38;5;241m.\u001B[39mstatistics()\n\u001B[0;32m      5\u001B[0m \u001B[38;5;66;03m#uncomment the line below to enable the Nuclear option\u001B[39;00m\n\u001B[0;32m      6\u001B[0m \u001B[38;5;66;03m# ei.drop_unlinked(i_am_reckless=True)\u001B[39;00m\n",
      "\u001B[1;31mNameError\u001B[0m: name 'aircraftlca2' is not defined"
     ]
    }
   ],
   "source": [
    "#write an excel file with all the matched activities so far.copy the excel file that was written in the previous line to your desired location for further reference.\n",
    "ei.write_excel(only_unlinked=False)\n",
    "ei.add_unlinked_activities()\n",
    "ei.statistics()\n",
    "#uncomment the line below to enable the Nuclear option\n",
    "# ei.drop_unlinked(i_am_reckless=True)"
   ]
  },
  {
   "cell_type": "code",
   "execution_count": 10,
   "outputs": [
    {
     "name": "stdout",
     "output_type": "stream",
     "text": [
      "2 datasets\n",
      "13 exchanges\n",
      "4 unlinked exchanges\n",
      "  Type technosphere: 4 unique unlinked exchanges\n"
     ]
    },
    {
     "data": {
      "text/plain": "(2, 13, 4)"
     },
     "execution_count": 10,
     "metadata": {},
     "output_type": "execute_result"
    }
   ],
   "source": [
    "ei.statistics()\n",
    "#ei.add_unlinked_activities()"
   ],
   "metadata": {
    "collapsed": false,
    "ExecuteTime": {
     "end_time": "2023-05-04T13:24:56.262464300Z",
     "start_time": "2023-05-04T13:24:56.240913200Z"
    }
   }
  },
  {
   "cell_type": "code",
   "execution_count": null,
   "metadata": {
    "collapsed": false,
    "jupyter": {
     "outputs_hidden": false
    }
   },
   "outputs": [],
   "source": [
    "#run this block if there any unlinked exchanges in In 7.\n",
    "print(unlinked_databases)\n",
    "for i in range(len(unlinked_databases)):\n",
    "    ei.match_database(unlinked_databases[i], fields=('name'))\n",
    "#ei.add_unlinked_activities()\n",
    "#ei.match_database(\"materials\") #since there are exchanges linking to this database"
   ]
  },
  {
   "cell_type": "code",
   "execution_count": null,
   "metadata": {
    "collapsed": false,
    "jupyter": {
     "outputs_hidden": false
    }
   },
   "outputs": [],
   "source": [
    "#check for statistics again before writing database\n",
    "ei.statistics()"
   ]
  },
  {
   "cell_type": "code",
   "execution_count": null,
   "metadata": {
    "collapsed": false,
    "jupyter": {
     "outputs_hidden": false
    }
   },
   "outputs": [],
   "source": [
    "# will write to the database only if there are no unlinked exchanges\n",
    "#writes the database into the bw2 as the same name of the excel sheet\n",
    "ei.write_database()"
   ]
  },
  {
   "cell_type": "code",
   "execution_count": null,
   "metadata": {
    "collapsed": false,
    "jupyter": {
     "outputs_hidden": false
    }
   },
   "outputs": [],
   "source": [
    "quit()"
   ]
  }
 ],
 "metadata": {
  "kernelspec": {
   "display_name": "Python 3 (ipykernel)",
   "language": "python",
   "name": "python3"
  },
  "language_info": {
   "codemirror_mode": {
    "name": "ipython",
    "version": 3
   },
   "file_extension": ".py",
   "mimetype": "text/x-python",
   "name": "python",
   "nbconvert_exporter": "python",
   "pygments_lexer": "ipython3",
   "version": "3.9.16"
  }
 },
 "nbformat": 4,
 "nbformat_minor": 4
}
