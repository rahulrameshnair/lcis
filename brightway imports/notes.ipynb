{
 "cells": [
  {
   "cell_type": "markdown",
   "source": [
    "The only way to iterate through all the exchanges of an activity in a brightway database is to make use of a double forloop as shown below."
   ],
   "metadata": {
    "collapsed": false
   }
  },
  {
   "cell_type": "code",
   "execution_count": null,
   "metadata": {
    "collapsed": true
   },
   "outputs": [],
   "source": [
    "import bw2data as bd\n",
    "ecoinvent_db = bd.Database('cutoff391')\n",
    "target_db = bd.Database('aircraftlca2')\n",
    "\n",
    "#the only way to iterate through exchanges in an activity is two call using a double for loop. without this, brightway will not iterate through all the exchange\n",
    "#in the activity.\n",
    "for exchange in unlinked_exchanges:\n",
    "    print (exchange[\"name\"])\n",
    "    matches_activity = [act for act in ecoinvent_db if act[\"name\"] == exchange[\"name\"] and act[\"location\"] == exchange[\"location\"] and act[\"reference product\"] == exchange[\"reference product\"]]\n",
    "    #matches_activity = bd.Database(database_name).search(exchange[\"name\"])\n",
    "    for match in matches_activity:\n",
    "        activity_code = match[\"code\"]\n",
    "    for match in matches_activity:\n",
    "        target_activity = target_db.new_activity(name=match[\"name\"], location)\n",
    "        for ex in match.exchanges():\n",
    "            print (ex)"
   ]
  }
 ],
 "metadata": {
  "kernelspec": {
   "display_name": "Python 3",
   "language": "python",
   "name": "python3"
  },
  "language_info": {
   "codemirror_mode": {
    "name": "ipython",
    "version": 2
   },
   "file_extension": ".py",
   "mimetype": "text/x-python",
   "name": "python",
   "nbconvert_exporter": "python",
   "pygments_lexer": "ipython2",
   "version": "2.7.6"
  }
 },
 "nbformat": 4,
 "nbformat_minor": 0
}
