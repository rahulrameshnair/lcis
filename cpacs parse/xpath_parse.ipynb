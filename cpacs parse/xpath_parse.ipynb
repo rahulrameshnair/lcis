{
 "cells": [
  {
   "cell_type": "code",
   "execution_count": 1,
   "metadata": {},
   "outputs": [
    {
     "name": "stdout",
     "output_type": "stream",
     "text": [
      "D:\\Alicia\\Work\\Git_Alicia\\cpacs parse\\demo cpacs databases\\D250-321TP-2040.xml\n"
     ]
    }
   ],
   "source": [
    "import xml.etree.ElementTree as ET\n",
    "filename = \"D:\\\\Alicia\\\\Work\\\\Git_Alicia\\\\cpacs parse\\\\demo cpacs databases\\\\D250-321TP-2040.xml\"\n",
    "print(filename)"
   ]
  },
  {
   "cell_type": "code",
   "execution_count": 22,
   "metadata": {},
   "outputs": [
    {
     "name": "stdout",
     "output_type": "stream",
     "text": [
      "<xml.etree.ElementTree.ElementTree object at 0x000002B399F4AFD0>\n",
      "<Element 'cpacs' at 0x000002B39A301180>\n",
      "34 34\n"
     ]
    }
   ],
   "source": [
    "tree=ET.parse(filename)\n",
    "print (tree)\n",
    "print(tree.getroot())\n",
    "mass_element_names = tree.findall(\".//mEM//massDescription\")\n",
    "mass_elements = tree.findall(\".//mEM//massDescription/mass\")\n",
    "component_masses={\"names\":[], \"masses\":[]}\n",
    "for men in mass_element_names:\n",
    "    #print(m.get(\"uID\"), m.text)\n",
    "    temp=men.get(\"uID\")\n",
    "    component_masses[\"names\"].append(temp)\n",
    "for me in mass_elements:\n",
    "    component_masses[\"masses\"].append(me.text)\n",
    "print (len(component_masses[\"names\"]), len(component_masses[\"masses\"]))"
   ]
  }
 ],
 "metadata": {
  "kernelspec": {
   "display_name": "pycharm_conda",
   "language": "python",
   "name": "python3"
  },
  "language_info": {
   "codemirror_mode": {
    "name": "ipython",
    "version": 3
   },
   "file_extension": ".py",
   "mimetype": "text/x-python",
   "name": "python",
   "nbconvert_exporter": "python",
   "pygments_lexer": "ipython3",
   "version": "3.9.16"
  },
  "orig_nbformat": 4
 },
 "nbformat": 4,
 "nbformat_minor": 2
}
