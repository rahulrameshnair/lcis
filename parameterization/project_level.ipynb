{
 "cells": [
  {
   "cell_type": "code",
   "execution_count": null,
   "metadata": {
    "collapsed": false,
    "jupyter": {
     "outputs_hidden": false
    }
   },
   "outputs": [],
   "source": [
    "from brightway2 import *\n",
    "from bw2data.parameters import ActivityParameter, DatabaseParameter, ProjectParameter, Group\n",
    "import functools"
   ]
  },
  {
   "cell_type": "markdown",
   "metadata": {},
   "source": [
    "### Logic of parameterization\n",
    "- This is a project-level parameterization\n",
    "- enter the project name in [In 10]\n",
    "- the extracted parameters from the excel file are stored under a list of dictionaries wit the keys 'name' and 'amount'. This is to resemble the way in which bw stores the parameter-related values. An example can be seen at /sample-db/demo_cpacs_parsed_output.xlsx\n",
    "- Ensure the name of the first two columns in your excel sheet (containing parameters extracted from cpacs) are 'name' and 'amount'. If not please give these names. If you prefer your own names, then please change these values in [In 25 line 14:15]"
   ]
  },
  {
   "cell_type": "code",
   "execution_count": null,
   "metadata": {
    "collapsed": false,
    "jupyter": {
     "outputs_hidden": false
    }
   },
   "outputs": [],
   "source": [
    "import brightway2 as bw\n",
    "bw.projects.set_current('staging')"
   ]
  },
  {
   "cell_type": "code",
   "execution_count": null,
   "outputs": [],
   "source": [
    "#total number of parameters in the selected project\n",
    "print(len(parameters))\n",
    "\n",
    "#outputs the names, amount an formula, if any, of all the parameters at the project level\n",
    "for i in ProjectParameter.select():\n",
    "    print(i, i.amount, i.formula)"
   ],
   "metadata": {
    "collapsed": false
   }
  },
  {
   "cell_type": "code",
   "execution_count": null,
   "outputs": [],
   "source": [
    "#imports the excel file containing the parameters extracted from the cpacs xml file.\n",
    "\n",
    "import select_file_v2 as select\n",
    "excelfile_path, excelfile_name = select.file_selection()"
   ],
   "metadata": {
    "collapsed": false
   }
  },
  {
   "cell_type": "code",
   "execution_count": null,
   "outputs": [],
   "source": [
    "# to extract the data from the excel sheet and store it as a list of python dictionaries\n",
    "import pandas as pd\n",
    "\n",
    "# Read the Excel sheet\n",
    "data_frame = pd.read_excel(excelfile_path, sheet_name='demo')\n",
    "\n",
    "# Create a list to store the dictionaries containing parameter name and amount.\n",
    "parameter_list = []\n",
    "\n",
    "# Iterate over each row in the data frame\n",
    "for index, row in data_frame.iterrows():\n",
    "    # Create a dictionary for the current row of parameter name and amount. This logic is used under the assumption that these project-level parameters are independent vairables without any formulas.\n",
    "    data_dict = {\n",
    "        'name': row['name'],\n",
    "        'amount': row['amount']\n",
    "    }\n",
    "    # Append the dictionary to the list\n",
    "    parameter_list.append(data_dict)\n",
    "\n",
    "# Print the extracted data\n",
    "for data_dict in parameter_list:\n",
    "    print(data_dict)"
   ],
   "metadata": {
    "collapsed": false
   }
  },
  {
   "cell_type": "code",
   "execution_count": null,
   "outputs": [],
   "source": [
    "#now we assign the above parameter names and amount to the currently selected project\n",
    "parameters.new_project_parameters(parameter_list)\n",
    "for i in ProjectParameter.select():\n",
    "    print(i, i.amount, i.formula)"
   ],
   "metadata": {
    "collapsed": false
   }
  },
  {
   "cell_type": "code",
   "execution_count": null,
   "outputs": [],
   "source": [
    "quit()"
   ],
   "metadata": {
    "collapsed": false
   }
  }
 ],
 "metadata": {
  "kernelspec": {
   "display_name": "Python 3 (ipykernel)",
   "language": "python",
   "name": "python3"
  },
  "language_info": {
   "codemirror_mode": {
    "name": "ipython",
    "version": 3
   },
   "file_extension": ".py",
   "mimetype": "text/x-python",
   "name": "python",
   "nbconvert_exporter": "python",
   "pygments_lexer": "ipython3",
   "version": "3.9.16"
  }
 },
 "nbformat": 4,
 "nbformat_minor": 4
}
